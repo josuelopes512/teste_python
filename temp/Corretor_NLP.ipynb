{
  "cells": [
    {
      "cell_type": "markdown",
      "metadata": {
        "colab_type": "text",
        "id": "view-in-github"
      },
      "source": [
        "<a href=\"https://colab.research.google.com/github/ViniViniAntunes/Corretor_Ortografico_NLP/blob/master/Corretor_NLP.ipynb\" target=\"_parent\"><img src=\"https://colab.research.google.com/assets/colab-badge.svg\" alt=\"Open In Colab\"/></a>"
      ]
    },
    {
      "cell_type": "markdown",
      "metadata": {
        "colab_type": "text",
        "id": "t7auu0R-vykW"
      },
      "source": [
        "# Corretor ortográfico"
      ]
    },
    {
      "cell_type": "markdown",
      "metadata": {
        "colab_type": "text",
        "id": "nGraQ4ya00lH"
      },
      "source": [
        "## 1) Conhecendo o conteúdo do arquivo.\n",
        "**O arquivo contém o texto de vários artigos publicados na plataforma da Alura. Esse conteúdo será o nosso \"corpus\".**\n",
        "**\"Corpus\", na linguística, é o conjunto de textos escritos e registros orais em uma determinada língua e que serve como base de análise.**"
      ]
    },
    {
      "cell_type": "markdown",
      "metadata": {
        "colab_type": "text",
        "id": "C4urM7Mz566V"
      },
      "source": [
        "**Primeiro abrimos o arquivo .txt e armazenamos o seu conteúdo em uma variável**"
      ]
    },
    {
      "cell_type": "code",
      "execution_count": 1,
      "metadata": {
        "colab": {
          "base_uri": "https://localhost:8080/",
          "height": 275
        },
        "colab_type": "code",
        "id": "tUCsORI01Xei",
        "outputId": "19991102-d6ad-49b8-fb83-431a7a08e180"
      },
      "outputs": [
        {
          "ename": "UnicodeDecodeError",
          "evalue": "'charmap' codec can't decode byte 0x9d in position 25203: character maps to <undefined>",
          "output_type": "error",
          "traceback": [
            "\u001b[1;31m---------------------------------------------------------------------------\u001b[0m",
            "\u001b[1;31mUnicodeDecodeError\u001b[0m                        Traceback (most recent call last)",
            "\u001b[1;32mC:\\Users\\COMPUT~1\\AppData\\Local\\Temp/ipykernel_6128/3977640292.py\u001b[0m in \u001b[0;36m<module>\u001b[1;34m\u001b[0m\n\u001b[0;32m      1\u001b[0m \u001b[1;31m# Abrindo o arquivo txt, armazenando o seu conteúdo em uma variável\u001b[0m\u001b[1;33m\u001b[0m\u001b[1;33m\u001b[0m\u001b[1;33m\u001b[0m\u001b[0m\n\u001b[0;32m      2\u001b[0m \u001b[1;32mwith\u001b[0m \u001b[0mopen\u001b[0m\u001b[1;33m(\u001b[0m\u001b[1;34m'treinamento.txt'\u001b[0m\u001b[1;33m,\u001b[0m \u001b[0mmode\u001b[0m\u001b[1;33m=\u001b[0m\u001b[1;34m'r'\u001b[0m\u001b[1;33m)\u001b[0m \u001b[1;32mas\u001b[0m \u001b[0mf\u001b[0m\u001b[1;33m:\u001b[0m\u001b[1;33m\u001b[0m\u001b[1;33m\u001b[0m\u001b[0m\n\u001b[1;32m----> 3\u001b[1;33m     \u001b[0mtreinamento\u001b[0m \u001b[1;33m=\u001b[0m \u001b[0mf\u001b[0m\u001b[1;33m.\u001b[0m\u001b[0mread\u001b[0m\u001b[1;33m(\u001b[0m\u001b[1;33m)\u001b[0m\u001b[1;33m\u001b[0m\u001b[1;33m\u001b[0m\u001b[0m\n\u001b[0m\u001b[0;32m      4\u001b[0m \u001b[1;33m\u001b[0m\u001b[0m\n\u001b[0;32m      5\u001b[0m \u001b[1;31m# Mostrando uma parte do conteúdo do arquivo\u001b[0m\u001b[1;33m\u001b[0m\u001b[1;33m\u001b[0m\u001b[1;33m\u001b[0m\u001b[0m\n",
            "\u001b[1;32m~\\anaconda3\\lib\\encodings\\cp1252.py\u001b[0m in \u001b[0;36mdecode\u001b[1;34m(self, input, final)\u001b[0m\n\u001b[0;32m     21\u001b[0m \u001b[1;32mclass\u001b[0m \u001b[0mIncrementalDecoder\u001b[0m\u001b[1;33m(\u001b[0m\u001b[0mcodecs\u001b[0m\u001b[1;33m.\u001b[0m\u001b[0mIncrementalDecoder\u001b[0m\u001b[1;33m)\u001b[0m\u001b[1;33m:\u001b[0m\u001b[1;33m\u001b[0m\u001b[1;33m\u001b[0m\u001b[0m\n\u001b[0;32m     22\u001b[0m     \u001b[1;32mdef\u001b[0m \u001b[0mdecode\u001b[0m\u001b[1;33m(\u001b[0m\u001b[0mself\u001b[0m\u001b[1;33m,\u001b[0m \u001b[0minput\u001b[0m\u001b[1;33m,\u001b[0m \u001b[0mfinal\u001b[0m\u001b[1;33m=\u001b[0m\u001b[1;32mFalse\u001b[0m\u001b[1;33m)\u001b[0m\u001b[1;33m:\u001b[0m\u001b[1;33m\u001b[0m\u001b[1;33m\u001b[0m\u001b[0m\n\u001b[1;32m---> 23\u001b[1;33m         \u001b[1;32mreturn\u001b[0m \u001b[0mcodecs\u001b[0m\u001b[1;33m.\u001b[0m\u001b[0mcharmap_decode\u001b[0m\u001b[1;33m(\u001b[0m\u001b[0minput\u001b[0m\u001b[1;33m,\u001b[0m\u001b[0mself\u001b[0m\u001b[1;33m.\u001b[0m\u001b[0merrors\u001b[0m\u001b[1;33m,\u001b[0m\u001b[0mdecoding_table\u001b[0m\u001b[1;33m)\u001b[0m\u001b[1;33m[\u001b[0m\u001b[1;36m0\u001b[0m\u001b[1;33m]\u001b[0m\u001b[1;33m\u001b[0m\u001b[1;33m\u001b[0m\u001b[0m\n\u001b[0m\u001b[0;32m     24\u001b[0m \u001b[1;33m\u001b[0m\u001b[0m\n\u001b[0;32m     25\u001b[0m \u001b[1;32mclass\u001b[0m \u001b[0mStreamWriter\u001b[0m\u001b[1;33m(\u001b[0m\u001b[0mCodec\u001b[0m\u001b[1;33m,\u001b[0m\u001b[0mcodecs\u001b[0m\u001b[1;33m.\u001b[0m\u001b[0mStreamWriter\u001b[0m\u001b[1;33m)\u001b[0m\u001b[1;33m:\u001b[0m\u001b[1;33m\u001b[0m\u001b[1;33m\u001b[0m\u001b[0m\n",
            "\u001b[1;31mUnicodeDecodeError\u001b[0m: 'charmap' codec can't decode byte 0x9d in position 25203: character maps to <undefined>"
          ]
        }
      ],
      "source": [
        "# Abrindo o arquivo txt, armazenando o seu conteúdo em uma variável\n",
        "with open('treinamento.txt', mode='r') as f:\n",
        "    treinamento = f.read()\n",
        "\n",
        "# Mostrando uma parte do conteúdo do arquivo\n",
        "print(treinamento[:500])"
      ]
    },
    {
      "cell_type": "markdown",
      "metadata": {
        "colab_type": "text",
        "id": "ycBrTu-36SGT"
      },
      "source": [
        "**Depois fazemos a \"tokenização\" que nada mais é que separar o texto em \"tokens\".**\n",
        "\n",
        "**Token é uma sequência de caracteres, separados por um limitador, que pode ser um espaço em branco, pontuação ou quebra de linhas, por exemplo.**"
      ]
    },
    {
      "cell_type": "code",
      "execution_count": 2,
      "metadata": {
        "colab": {
          "base_uri": "https://localhost:8080/",
          "height": 34
        },
        "colab_type": "code",
        "id": "NdX_3ftr3iA4",
        "outputId": "c92b06ea-5d66-4fbf-fa28-9a5566fc887a"
      },
      "outputs": [
        {
          "data": {
            "text/plain": [
              "2605046"
            ]
          },
          "execution_count": 2,
          "metadata": {
            "tags": []
          },
          "output_type": "execute_result"
        }
      ],
      "source": [
        "# Mostrando quantos caracteres têm no arquivo\n",
        "len(treinamento)"
      ]
    },
    {
      "cell_type": "markdown",
      "metadata": {
        "colab_type": "text",
        "id": "Nv7I-QYg2GVX"
      },
      "source": [
        "# 2) Fatiando o conteúdo do arquivo\n",
        "**Precisamos saber quantas palavras existem e não quantos caracteres**"
      ]
    },
    {
      "cell_type": "markdown",
      "metadata": {
        "colab_type": "text",
        "id": "24AnczLN_I0c"
      },
      "source": [
        "**Usando o método split()**"
      ]
    },
    {
      "cell_type": "code",
      "execution_count": 3,
      "metadata": {
        "colab": {
          "base_uri": "https://localhost:8080/",
          "height": 34
        },
        "colab_type": "code",
        "id": "nqvf9AXo4i-x",
        "outputId": "36c34e25-686c-4d7b-bc50-df189b537749"
      },
      "outputs": [
        {
          "name": "stdout",
          "output_type": "stream",
          "text": [
            "['Olá,', 'tudo', 'bem?']\n"
          ]
        }
      ],
      "source": [
        "# Um texto de exemplo\n",
        "texto_exemplo = 'Olá, tudo bem?'\n",
        "\n",
        "# \"Tokenizando\" o texto de exemplo utilizando o método split()\n",
        "tokens = texto_exemplo.split()\n",
        "\n",
        "# Mostrando o resultado da \"tokenização\" do texto de exemplo utilizando o método split()\n",
        "print(tokens)"
      ]
    },
    {
      "cell_type": "code",
      "execution_count": 4,
      "metadata": {
        "colab": {
          "base_uri": "https://localhost:8080/",
          "height": 34
        },
        "colab_type": "code",
        "id": "YMgFLob25C4o",
        "outputId": "7cc1903c-5b73-4143-b626-32d85bc09d5b"
      },
      "outputs": [
        {
          "data": {
            "text/plain": [
              "3"
            ]
          },
          "execution_count": 4,
          "metadata": {
            "tags": []
          },
          "output_type": "execute_result"
        }
      ],
      "source": [
        "# Mostrando o tamanho da lista de tokens criadas no exemplo\n",
        "len(tokens)"
      ]
    },
    {
      "cell_type": "markdown",
      "metadata": {
        "colab_type": "text",
        "id": "AO02nPiD_Pcr"
      },
      "source": [
        "**Usando a biblioteca nltk**"
      ]
    },
    {
      "cell_type": "code",
      "execution_count": 5,
      "metadata": {
        "colab": {
          "base_uri": "https://localhost:8080/",
          "height": 68
        },
        "colab_type": "code",
        "id": "CVMIHvqw5RPZ",
        "outputId": "0d5448be-b69e-4c67-e995-98d36481e658"
      },
      "outputs": [
        {
          "name": "stdout",
          "output_type": "stream",
          "text": [
            "[nltk_data] Downloading package punkt to /root/nltk_data...\n",
            "[nltk_data]   Package punkt is already up-to-date!\n"
          ]
        },
        {
          "data": {
            "text/plain": [
              "True"
            ]
          },
          "execution_count": 5,
          "metadata": {
            "tags": []
          },
          "output_type": "execute_result"
        }
      ],
      "source": [
        "# Importando a biblioteca nltk\n",
        "import nltk\n",
        "\n",
        "# Baixando o pacote punkt\n",
        "nltk.download('punkt')"
      ]
    },
    {
      "cell_type": "code",
      "execution_count": 6,
      "metadata": {
        "colab": {
          "base_uri": "https://localhost:8080/",
          "height": 34
        },
        "colab_type": "code",
        "id": "UbH45kKq75pW",
        "outputId": "1a233e4c-a72e-458d-e2b3-5245832bf629"
      },
      "outputs": [
        {
          "name": "stdout",
          "output_type": "stream",
          "text": [
            "['Olá', ',', 'tudo', 'bem', '?']\n"
          ]
        }
      ],
      "source": [
        "# \"Tokenizando\" o texto de exemplo utilizando a biblioteca nltk\n",
        "palavras_separadas = nltk.tokenize.word_tokenize(texto_exemplo)\n",
        "\n",
        "# Mostrando o resultado da \"tokenização\" do texto de exemplo utilizando a biblioteca nltk\n",
        "print(palavras_separadas)"
      ]
    },
    {
      "cell_type": "code",
      "execution_count": 7,
      "metadata": {
        "colab": {
          "base_uri": "https://localhost:8080/",
          "height": 34
        },
        "colab_type": "code",
        "id": "NrsxPpFy8iDq",
        "outputId": "f9b4004d-f45b-4901-9ef4-548561748171"
      },
      "outputs": [
        {
          "data": {
            "text/plain": [
              "5"
            ]
          },
          "execution_count": 7,
          "metadata": {
            "tags": []
          },
          "output_type": "execute_result"
        }
      ],
      "source": [
        "# Mostrando o tamanho da lista de tokens criadas no exemplo\n",
        "len(palavras_separadas)"
      ]
    },
    {
      "cell_type": "markdown",
      "metadata": {
        "colab_type": "text",
        "id": "XSR43IPizO7f"
      },
      "source": [
        "**Podemos notar que, utilizando a bilbioteca nltk, foi possível separar os caracteres especiais das palavras encontradas, mas eles ainda estão todos juntos em uma única lista.**"
      ]
    },
    {
      "cell_type": "markdown",
      "metadata": {
        "colab_type": "text",
        "id": "GPSusvtM2V7a"
      },
      "source": [
        "## 2.1) Separando o necessário"
      ]
    },
    {
      "cell_type": "markdown",
      "metadata": {
        "colab_type": "text",
        "id": "xzvlxLFLA3bl"
      },
      "source": [
        "**Separando somente as palavras somente**"
      ]
    },
    {
      "cell_type": "code",
      "execution_count": 8,
      "metadata": {
        "colab": {
          "base_uri": "https://localhost:8080/",
          "height": 34
        },
        "colab_type": "code",
        "id": "ZafaFnhh_5fZ",
        "outputId": "e5f9359f-ca2b-4b80-b8ed-cb9b51161e41"
      },
      "outputs": [
        {
          "data": {
            "text/plain": [
              "False"
            ]
          },
          "execution_count": 8,
          "metadata": {
            "tags": []
          },
          "output_type": "execute_result"
        }
      ],
      "source": [
        "# Relembrando como funciona o método isalpha()\n",
        "'/.'.isalpha()"
      ]
    },
    {
      "cell_type": "code",
      "execution_count": 9,
      "metadata": {
        "colab": {
          "base_uri": "https://localhost:8080/",
          "height": 34
        },
        "colab_type": "code",
        "id": "aA_ILWYjAgRT",
        "outputId": "a75453fe-40b1-4a51-c394-43f62e1743e2"
      },
      "outputs": [
        {
          "data": {
            "text/plain": [
              "True"
            ]
          },
          "execution_count": 9,
          "metadata": {
            "tags": []
          },
          "output_type": "execute_result"
        }
      ],
      "source": [
        "# Relembrando como funciona o método isalpha()\n",
        "'à'.isalpha()"
      ]
    },
    {
      "cell_type": "code",
      "execution_count": 10,
      "metadata": {
        "colab": {
          "base_uri": "https://localhost:8080/",
          "height": 34
        },
        "colab_type": "code",
        "id": "2vZDh-3T_gKk",
        "outputId": "e0c9282c-defd-4d00-8311-a162457ebb07"
      },
      "outputs": [
        {
          "data": {
            "text/plain": [
              "['Olá', 'tudo', 'bem']"
            ]
          },
          "execution_count": 10,
          "metadata": {
            "tags": []
          },
          "output_type": "execute_result"
        }
      ],
      "source": [
        "# Função separa_palavras()\n",
        "def separa_palavras(lista_tokens):\n",
        "\n",
        "    # Criando uma lista vazia para armazenar as palavras separadas dos caracteres especiais\n",
        "    lista_palavras = []\n",
        "\n",
        "    # Iterando por toda a lista de tokens\n",
        "    for token in lista_tokens:\n",
        "\n",
        "        # Separando as palavras dos caracteres especiais\n",
        "        if token.isalpha():\n",
        "\n",
        "            # Armazenando somente as palavras\n",
        "            lista_palavras.append(token)\n",
        "    \n",
        "    # Retornando uma lista somente com as palavras\n",
        "    return lista_palavras\n",
        "\n",
        "# Chamando a função separa_palavras para testar\n",
        "separa_palavras(palavras_separadas)"
      ]
    },
    {
      "cell_type": "markdown",
      "metadata": {
        "colab_type": "text",
        "id": "NtQvaZrDA9d8"
      },
      "source": [
        "**Teste feito, vamos fazer o mesmo com nosso corpus**"
      ]
    },
    {
      "cell_type": "code",
      "execution_count": 11,
      "metadata": {
        "colab": {
          "base_uri": "https://localhost:8080/",
          "height": 34
        },
        "colab_type": "code",
        "id": "fWkScSOeAo79",
        "outputId": "f21e25d0-cc3b-4381-8134-75b108a472db"
      },
      "outputs": [
        {
          "name": "stdout",
          "output_type": "stream",
          "text": [
            "O número total de palavras em nosso corpus é 393914\n"
          ]
        }
      ],
      "source": [
        "# \"Tokenizando\" o nosso corpus utilizando a biblioteca nltk\n",
        "lista_tokens = nltk.tokenize.word_tokenize(treinamento)\n",
        "\n",
        "# Chamando a função separa_palavras() passando o nosso corpus como parâmetro\n",
        "lista_palavras = separa_palavras(lista_tokens)\n",
        "\n",
        "# Mostrando o total de palavras em nosso corpus\n",
        "print(f'O número total de palavras em nosso corpus é {len(lista_palavras)}')"
      ]
    },
    {
      "cell_type": "markdown",
      "metadata": {
        "colab_type": "text",
        "id": "IzWQzXPw5UaP"
      },
      "source": [
        "**Então em nosso corpus existe tudo isso de palavras???**\n",
        "<br>\n",
        "<br>\n",
        "**A resposta virá na seção 4**"
      ]
    },
    {
      "cell_type": "code",
      "execution_count": 12,
      "metadata": {
        "colab": {
          "base_uri": "https://localhost:8080/",
          "height": 34
        },
        "colab_type": "code",
        "id": "s-zDMx2LW1bL",
        "outputId": "6a4461ab-8794-4ffd-f671-3cf1a85f28b0"
      },
      "outputs": [
        {
          "name": "stdout",
          "output_type": "stream",
          "text": [
            "['imagem', 'Temos', 'a', 'seguinte', 'classe']\n"
          ]
        }
      ],
      "source": [
        "# Uma pequena amostra do resultado até aqui\n",
        "print(lista_palavras[:5])"
      ]
    },
    {
      "cell_type": "markdown",
      "metadata": {
        "colab_type": "text",
        "id": "j5KnRUUY3YuH"
      },
      "source": [
        "# 3) Normalização\n",
        "**Normalizar as palavras é simplesmente deixaá-las noum mesmo padrão, por exemplo, passar todas as letras para minúsculas**\n",
        "<br>\n",
        "<br>\n",
        "**Essa etapa é importante para ajudar o nosso corretor a trabalhar por si só.**\n"
      ]
    },
    {
      "cell_type": "code",
      "execution_count": 13,
      "metadata": {
        "colab": {
          "base_uri": "https://localhost:8080/",
          "height": 34
        },
        "colab_type": "code",
        "id": "KtO0fys2WLbS",
        "outputId": "2327c31f-05e2-4ac8-ea41-fa9723489f08"
      },
      "outputs": [
        {
          "name": "stdout",
          "output_type": "stream",
          "text": [
            "['imagem', 'temos', 'a', 'seguinte', 'classe']\n"
          ]
        }
      ],
      "source": [
        "# Função normalizacao() \n",
        "def normalizacao(lista_palavras):\n",
        "    \n",
        "    # Criando uma lista vazia para armazenar as palavras normalizadas\n",
        "    lista_normalizada = []\n",
        "\n",
        "    # Iterando por toda a lista de palavras\n",
        "    for palavra in lista_palavras:\n",
        "\n",
        "        # Armazenando as palavras normalizadas\n",
        "        lista_normalizada.append(palavra.lower())\n",
        "    \n",
        "    # Retornando uma lista com as palavras normalizadas\n",
        "    return lista_normalizada\n",
        "\n",
        "# Chamando a função normalizacao()\n",
        "lista_normalizada = normalizacao(lista_palavras)\n",
        "\n",
        "# Uma pequena amostra do resultado até aqui\n",
        "print(lista_normalizada[:5])"
      ]
    },
    {
      "cell_type": "markdown",
      "metadata": {
        "colab_type": "text",
        "id": "7zsjbHQ_45iK"
      },
      "source": [
        "**Note que agora temos somente letras minúsculas**"
      ]
    },
    {
      "cell_type": "markdown",
      "metadata": {
        "colab_type": "text",
        "id": "DzhSUN_P5CSR"
      },
      "source": [
        "**Mas quantas palavras de fato existem em nosso corpus?**"
      ]
    },
    {
      "cell_type": "markdown",
      "metadata": {
        "colab_type": "text",
        "id": "GVoeMWmprE3i"
      },
      "source": [
        "**Para responder isso, basta usarmos o método set() do Python**"
      ]
    },
    {
      "cell_type": "code",
      "execution_count": 14,
      "metadata": {
        "colab": {
          "base_uri": "https://localhost:8080/",
          "height": 34
        },
        "colab_type": "code",
        "id": "vRATSLQ4WLaH",
        "outputId": "e1433277-d363-4719-e252-ffd613386947"
      },
      "outputs": [
        {
          "data": {
            "text/plain": [
              "{1, 2, 3, 4, 5, 6}"
            ]
          },
          "execution_count": 14,
          "metadata": {
            "tags": []
          },
          "output_type": "execute_result"
        }
      ],
      "source": [
        "# Relembrando como funciona o método set() do Python\n",
        "set([1, 2, 3, 3, 3, 4, 5, 6, 6])"
      ]
    },
    {
      "cell_type": "code",
      "execution_count": 15,
      "metadata": {
        "colab": {
          "base_uri": "https://localhost:8080/",
          "height": 34
        },
        "colab_type": "code",
        "id": "z9VSxwDOWLZN",
        "outputId": "07509d43-de60-4608-e98e-a6cbbed97ab4"
      },
      "outputs": [
        {
          "name": "stdout",
          "output_type": "stream",
          "text": [
            "O número total de palavras que nosso corretor \"sabe\" de fato é 17652\n"
          ]
        }
      ],
      "source": [
        "# Mostrando o total real de palavras existentes em nosso corpus\n",
        "print(f'O número total de palavras que nosso corretor \"sabe\" de fato é {len(set(lista_normalizada))}')"
      ]
    },
    {
      "cell_type": "markdown",
      "metadata": {
        "colab_type": "text",
        "id": "4Jubja6D6PQh"
      },
      "source": [
        "**Segundo esse <a href=\"https://forum.duolingo.com/comment/7642297/Quantas-palavras-voc%C3%AA-precisa-saber-para-ser-fluente\" target=\"_blank\">post</a> no site <a href=\"https://pt.duolingo.com/\" target=\"_blank\">Duolingo</a>, 8000 palavras é mais do que qualquer pessoas precisa saber para ser fluente em uma língua. Nosso corretor está bem acima disso.**"
      ]
    },
    {
      "cell_type": "markdown",
      "metadata": {
        "colab_type": "text",
        "id": "88kqXofdb34-"
      },
      "source": [
        "# 4) Preparando o nosso corretor\n",
        "**Precisamos \"ensinar\" o nosso corretor a identificar erros para então poder corrigí-los. Faremso isso criando funções e cada tipo de erro um conjunto de funções será criado.**"
      ]
    },
    {
      "cell_type": "markdown",
      "metadata": {
        "colab_type": "text",
        "id": "OddJ193o-VTW"
      },
      "source": [
        "## 4.1) Erro: falta de uma letra"
      ]
    },
    {
      "cell_type": "markdown",
      "metadata": {
        "colab_type": "text",
        "id": "h22mSzDT8VGK"
      },
      "source": [
        "**Exemplo: supomos que queira digitar a palavra \"programação\", mas na hora o dedo escapa e digita-se \"programaão\".  Precisamos fatiar em duas partes a palavra no lugar exato e inserir a letra faltante entre as duas partes**"
      ]
    },
    {
      "cell_type": "code",
      "execution_count": 16,
      "metadata": {
        "colab": {
          "base_uri": "https://localhost:8080/",
          "height": 34
        },
        "colab_type": "code",
        "id": "mLmUnYsohghd",
        "outputId": "f7e66572-0276-4254-ee4e-56bc0530c032"
      },
      "outputs": [
        {
          "data": {
            "text/plain": [
              "('programa', 'ão')"
            ]
          },
          "execution_count": 16,
          "metadata": {
            "tags": []
          },
          "output_type": "execute_result"
        }
      ],
      "source": [
        "# Criando um exemplo\n",
        "palavra_exemplo = 'programaão'\n",
        "\n",
        "# Relembrando como fatiar uma string em Python\n",
        "(palavra_exemplo[:8], palavra_exemplo[8:])"
      ]
    },
    {
      "cell_type": "code",
      "execution_count": 17,
      "metadata": {
        "colab": {
          "base_uri": "https://localhost:8080/",
          "height": 102
        },
        "colab_type": "code",
        "id": "JWGoENDO-05j",
        "outputId": "b439f630-863d-4989-fce5-2eda63967dc3"
      },
      "outputs": [
        {
          "name": "stdout",
          "output_type": "stream",
          "text": [
            "programa + \"a letra faltante (ç)\" + ão\n",
            "\n",
            "Resulta na palavra \n",
            "\n",
            "\tprogramação\n"
          ]
        }
      ],
      "source": [
        "# Exemplo do que queremos fazer\n",
        "print(f'{palavra_exemplo[:8]} + \"a letra faltante (ç)\" + {palavra_exemplo[8:]}'\n",
        "      f'\\n\\nResulta na palavra \\n\\n\\t{palavra_exemplo[:8] + \"ç\" + palavra_exemplo[8:]}')"
      ]
    },
    {
      "cell_type": "markdown",
      "metadata": {
        "colab_type": "text",
        "id": "lzewgWE7uTqi"
      },
      "source": [
        "**Vamos fazer isso para todas as palavras que estiverem faltando uma letra. Precisamos de uma função para fazer isso.**"
      ]
    },
    {
      "cell_type": "code",
      "execution_count": 18,
      "metadata": {
        "colab": {
          "base_uri": "https://localhost:8080/",
          "height": 34
        },
        "colab_type": "code",
        "id": "tLy-84f7WLJP",
        "outputId": "f6634444-de37-4f94-9b13-c03c0f9f635e"
      },
      "outputs": [
        {
          "data": {
            "text/plain": [
              "['programaaão', 'programabão', 'programacão', 'programaeão', 'programadão']"
            ]
          },
          "execution_count": 18,
          "metadata": {
            "tags": []
          },
          "output_type": "execute_result"
        }
      ],
      "source": [
        "# Função insere_letras()\n",
        "# Recebe uma lista de tuplas (esquerdo, direito) que corresponde aos lados \n",
        "    # esquerdo e direito da palavra fatiada em dois\n",
        "def insere_letras(fatias):\n",
        "\n",
        "    # Criando uma lista vazia para armazenar as palavras corrigidas\n",
        "    novas_palavras = []\n",
        "\n",
        "    # Variável que armazena todas as letras do alfabeto e as vogais acentuadas\n",
        "        # É daqui que nosso corretor pegará a letra faltante\n",
        "    letras = 'abcedfghijklmnopqrstuvwxyzáâàãéêèíîìóôòõúûùç'\n",
        "\n",
        "    # Iterando por todas as tuplas da lista recebida\n",
        "    for esquerdo, direito in fatias:\n",
        "\n",
        "        # Iterando por toda letra das variável letras\n",
        "        for letra in letras:\n",
        "\n",
        "            # Acrescentando todas as possibilidades de palavras possíveis\n",
        "            novas_palavras.append(esquerdo + letra + direito)\n",
        "    \n",
        "    # Retornando uma lista de possíveis palavras\n",
        "    return novas_palavras\n",
        "\n",
        "# Mostrando uma parte da lista que a função insere_letras() retorna como exemplo\n",
        "insere_letras([('programa', 'ão')])[:5]"
      ]
    },
    {
      "cell_type": "code",
      "execution_count": 19,
      "metadata": {
        "colab": {
          "base_uri": "https://localhost:8080/",
          "height": 34
        },
        "colab_type": "code",
        "id": "VZ4XADVmyC_s",
        "outputId": "5bd52093-4827-4d47-ad5a-eb4b1dd3948d"
      },
      "outputs": [
        {
          "name": "stdout",
          "output_type": "stream",
          "text": [
            "['aprogramaão', 'bprogramaão', 'cprogramaão', 'eprogramaão', 'dprogramaão']\n"
          ]
        }
      ],
      "source": [
        "# Função gerador_palavras()\n",
        "def gerador_palavras(palavra):\n",
        "\n",
        "    # Criando uma lista vazia para armazenar as duas fatias de cada palavra\n",
        "    fatias = []\n",
        "\n",
        "    # Iterando por cada letra de cada palavra\n",
        "    for i in range(len(palavra) + 1):\n",
        "\n",
        "        # Armazenando as duas fatias em uma tupla e essa tupla em uma lista\n",
        "        fatias.append((palavra[:i], palavra[i:]))\n",
        "\n",
        "    # Chamando a função insere_letras() com a lista de tuplas das fatias \n",
        "        # recém-criadas e armazenando o retorno dessa função em uma variável\n",
        "    palavras_geradas = insere_letras(fatias)\n",
        "\n",
        "    # Retornando a lista de possíveis palavras. A palavra correta estará aí no meio\n",
        "    return palavras_geradas\n",
        "\n",
        "# Chamando a função gerador_palavras() com a pallavra_exemplo como parãmetro\n",
        "    # e armazenando a lista que ela retorna em uma variável\n",
        "palavras_geradas = gerador_palavras(palavra_exemplo)\n",
        "\n",
        "# Mostrando, como exemplo, uma parte da lista que a função gerador_palavras() retorna\n",
        "print(palavras_geradas[:5])"
      ]
    },
    {
      "cell_type": "code",
      "execution_count": 20,
      "metadata": {
        "colab": {
          "base_uri": "https://localhost:8080/",
          "height": 34
        },
        "colab_type": "code",
        "id": "ilfmEmAl09bN",
        "outputId": "070d78e6-eaa1-4cf1-8709-c31df202de43"
      },
      "outputs": [
        {
          "name": "stdout",
          "output_type": "stream",
          "text": [
            "A palavra correta é \"programação\" e ela está dentro da lista palavras_geradas\n"
          ]
        }
      ],
      "source": [
        "# Laço para mostrar que a palavra correta está aí dentro desta lista\n",
        "for palavra in palavras_geradas:\n",
        "\n",
        "    # Selecionando a palavra correta\n",
        "    if palavra == 'programação':\n",
        "\n",
        "        # Mostrando que a palavra correta está dentro dessa lista\n",
        "        print(f'A palavra correta é \"{palavra}\" e ela está dentro da lista palavras_geradas')"
      ]
    },
    {
      "cell_type": "markdown",
      "metadata": {
        "colab_type": "text",
        "id": "SKkcwWB52Hd_"
      },
      "source": [
        "**Agora, nosso corretor tem que saber qual é a palavra correta dentro dessas inúmeras palavras geradas**"
      ]
    },
    {
      "cell_type": "code",
      "execution_count": 21,
      "metadata": {
        "colab": {
          "base_uri": "https://localhost:8080/",
          "height": 34
        },
        "colab_type": "code",
        "id": "k8ND6QTq2SvB",
        "outputId": "a4d7ae87-33e3-41c3-baae-91e7d22afdbb"
      },
      "outputs": [
        {
          "name": "stdout",
          "output_type": "stream",
          "text": [
            "Foram geradas 484 palavras\n"
          ]
        }
      ],
      "source": [
        "# Mostrando a quantidade de palavras que a função gerador_palavras() \n",
        "    # retornou a partir da palavra_exemplo\n",
        "print(f'Foram geradas {len(palavras_geradas)} palavras')"
      ]
    },
    {
      "cell_type": "markdown",
      "metadata": {
        "colab_type": "text",
        "id": "69JpVD8Y31kG"
      },
      "source": [
        "**Faremos isso usando a função FreqDist() da biblioteca nltk. Esse método calcula a frequência que determinada palavra aparece dentro do corpus. Basta darmos qual palavra queremos saber a frequência**"
      ]
    },
    {
      "cell_type": "code",
      "execution_count": 22,
      "metadata": {
        "colab": {
          "base_uri": "https://localhost:8080/",
          "height": 187
        },
        "colab_type": "code",
        "id": "XTb_0pV5Uvl_",
        "outputId": "8806de2a-ab9b-4515-f199-8ee33f093946"
      },
      "outputs": [
        {
          "data": {
            "text/plain": [
              "[('de', 15494),\n",
              " ('o', 13966),\n",
              " ('que', 12225),\n",
              " ('a', 11034),\n",
              " ('e', 10478),\n",
              " ('para', 7694),\n",
              " ('um', 6346),\n",
              " ('é', 5881),\n",
              " ('uma', 5202),\n",
              " ('do', 5116)]"
            ]
          },
          "execution_count": 22,
          "metadata": {
            "tags": []
          },
          "output_type": "execute_result"
        }
      ],
      "source": [
        "# Chamando a função FreqDist() com a lista_normalizada como parâmetro e \n",
        "    # armazenando o seu retorno em uma variável\n",
        "frequencia = nltk.FreqDist(lista_normalizada)\n",
        "\n",
        "# Calculando o total de palavras e armazenando esse número em uma variável\n",
        "total_palavras = len(lista_normalizada)\n",
        "\n",
        "# Mostrando as 10 palavras mais comuns da nossa lista_normalizada\n",
        "frequencia.most_common(10)"
      ]
    },
    {
      "cell_type": "markdown",
      "metadata": {
        "colab_type": "text",
        "id": "el0P7tM05a0T"
      },
      "source": [
        "**Com isso, podemos calcular a probabilidade de determinada palavra aparecer em nosso corpus**"
      ]
    },
    {
      "cell_type": "code",
      "execution_count": null,
      "metadata": {
        "colab": {},
        "colab_type": "code",
        "id": "83RJUAYFWLXx"
      },
      "outputs": [],
      "source": [
        "# Função probabilidade()\n",
        "def probabilidade(palavra_gerada):\n",
        "\n",
        "    # Retorna a probabilidade de determinada palavra aparecer no nosso corpus\n",
        "    return frequencia[palavra_gerada] / total_palavras"
      ]
    },
    {
      "cell_type": "code",
      "execution_count": null,
      "metadata": {
        "colab": {},
        "colab_type": "code",
        "id": "uuIidScHBnph"
      },
      "outputs": [],
      "source": [
        "# Função corretor()\n",
        "# Recebe como parâmetro a palavra errada (faltando uma letra) e retorna ela corrigida\n",
        "def corretor(palavra_errada):\n",
        "\n",
        "    # Chama a função gerador_palavras() usando como parâmetro a palavra \n",
        "        # de forma incoreta (digitada com uma letra faltando)\n",
        "    palavras_geradas = gerador_palavras(palavra_errada)\n",
        "\n",
        "    # Selecionando a palavra com maior probabilidade de aparecer em nosso corpus\n",
        "    # Essa será a palavra correta\n",
        "    palavra_correta = max(palavras_geradas, key=probabilidade)\n",
        "\n",
        "    # Retornando a palavra corrigida\n",
        "    return palavra_correta"
      ]
    },
    {
      "cell_type": "code",
      "execution_count": 25,
      "metadata": {
        "colab": {
          "base_uri": "https://localhost:8080/",
          "height": 34
        },
        "colab_type": "code",
        "id": "RliG-5qupCSq",
        "outputId": "ab7022b8-7a9c-4bf3-b165-6116bd259704"
      },
      "outputs": [
        {
          "data": {
            "text/plain": [
              "'programação'"
            ]
          },
          "execution_count": 25,
          "metadata": {
            "tags": []
          },
          "output_type": "execute_result"
        }
      ],
      "source": [
        "# Recriando um exemplo, só pra não esquecer. Note que a palavra_exemplo está \n",
        "    # digitada incorretamente (faltando uma letra)\n",
        "palavra_exemplo = 'programaão'\n",
        "\n",
        "# Testando o nosso corrtor até aqui\n",
        "corretor(palavra_exemplo)"
      ]
    },
    {
      "cell_type": "code",
      "execution_count": 26,
      "metadata": {
        "colab": {
          "base_uri": "https://localhost:8080/",
          "height": 34
        },
        "colab_type": "code",
        "id": "PuzWd4POpeUo",
        "outputId": "2164eb07-76e8-4b00-9217-e6830f944e8e"
      },
      "outputs": [
        {
          "name": "stdout",
          "output_type": "stream",
          "text": [
            "Você quis dizer: lógica\n"
          ]
        }
      ],
      "source": [
        "# Mais testes. Agora com a palavra \"lógica\"\n",
        "teste = 'lgica'\n",
        "print(f'Você quis dizer: {corretor(teste)}')"
      ]
    },
    {
      "cell_type": "markdown",
      "metadata": {
        "colab_type": "text",
        "id": "_wLlMrwP7XCn"
      },
      "source": [
        "**Com isso nosso corretor está preparado para corrigir palavras digitadas com uma letra falatando.**\n",
        "<br>\n",
        "<br>\n",
        "**Precisamos agora avaliar a qualidade de nosso corretor.**"
      ]
    },
    {
      "cell_type": "markdown",
      "metadata": {
        "colab_type": "text",
        "id": "sEo0nmd272aZ"
      },
      "source": [
        "### Avaliando o nosso corretor"
      ]
    },
    {
      "cell_type": "code",
      "execution_count": null,
      "metadata": {
        "colab": {},
        "colab_type": "code",
        "id": "Plt7u8Ihps-R"
      },
      "outputs": [],
      "source": [
        "# Função cria_dados_teste()\n",
        "# Recebe o nome de um arquivo com uma série de palavras digitadas correta e \n",
        "    # incorretamente para podermos avaliar o nosso corretor\n",
        "def cria_dados_teste(nome_arquivo):\n",
        "\n",
        "    # Criando um lista vazia para armazenar as palavras de teste\n",
        "    lista_palavras_teste = []\n",
        "\n",
        "    # Abre o arquivo em mode de leitura\n",
        "    f = open(nome_arquivo, 'r')\n",
        "\n",
        "    # Iterando em toda linha do conteúdo do arquivo de teste\n",
        "    for linha in f:\n",
        "\n",
        "        # Separando as palavras digitadas correta e incorretamente avaliarmos\n",
        "        correta, errada = linha.split()\n",
        "\n",
        "        # Armazenando em uma lista as tuplas formadas pelas palavras \n",
        "            # digitadas correta e incorretamente\n",
        "        lista_palavras_teste.append((correta, errada))\n",
        "    \n",
        "    # Fechando o arquivo\n",
        "    f.close()\n",
        "\n",
        "    # Retornando a lista com as tuplas de palavras\n",
        "        # digitadas coreta e incorretamante\n",
        "    return lista_palavras_teste\n",
        "\n",
        "# Chamando a função cria_dados_teste() com o nome do arquivo que contém as\n",
        "    # palavras de teste\n",
        "lista_teste = cria_dados_teste('palavras.txt')"
      ]
    },
    {
      "cell_type": "code",
      "execution_count": 28,
      "metadata": {
        "colab": {
          "base_uri": "https://localhost:8080/",
          "height": 34
        },
        "colab_type": "code",
        "id": "8XK8_T4ZtBu9",
        "outputId": "ab142249-bcf7-4369-a554-4fc9a6f1b318"
      },
      "outputs": [
        {
          "name": "stdout",
          "output_type": "stream",
          "text": [
            "1.08% de 186 palavras\n"
          ]
        }
      ],
      "source": [
        "# Função avaliador()\n",
        "# Recebe uma lista com as tuplas de palavras de teste para poder\n",
        "    # avaliar o nosso corretor\n",
        "def avaliador(testes):\n",
        "\n",
        "    # Calculando o número de palavras da lista de teste\n",
        "    numero_palavras = len(testes)\n",
        "\n",
        "    # Setando um contador\n",
        "    acertou = 0\n",
        "\n",
        "    # Iterando por cada tupla dentro da lista de teste\n",
        "    for correta, errada in testes:\n",
        "\n",
        "        # Chamando a função corretor() passando cada palavra\n",
        "            # digitada incorretamente\n",
        "        palavra_corrigida = corretor(errada)\n",
        "\n",
        "        # Conferindo cada palavra para ver se ele conseguiu corrigir\n",
        "        if palavra_corrigida == correta:\n",
        "\n",
        "            # Incrementando o contador\n",
        "            acertou += 1\n",
        "    \n",
        "    # Calculando a taxa de acerto do nosso corretor\n",
        "    taxa_acerto = round(acertou * 100 / numero_palavras, 2)\n",
        "\n",
        "    # Mostrando a taxa de acerto doe nosso corretor\n",
        "    print(f'{taxa_acerto}% de {numero_palavras} palavras')\n",
        "\n",
        "# Chamando a função avaliador()\n",
        "avaliador(lista_teste)"
      ]
    },
    {
      "cell_type": "markdown",
      "metadata": {
        "colab_type": "text",
        "id": "F3jR8jo8-6Cf"
      },
      "source": [
        "**Uma taxa vergonhosamente baixa. Depois de tanto trabalho, nosso corretor acerta 1.08% de 186 palavras teste??**\n",
        "<br>\n",
        "<br>\n",
        "**Tenha em mente que preparamos nosso corretor para corrigir apenas um tipo de erro (o erro de uma letra faltante). Precisamos incrementar mais o nosso corretor.**\n",
        "<br>\n",
        "<br>\n",
        "**Então, mãos à obra!**"
      ]
    },
    {
      "cell_type": "markdown",
      "metadata": {
        "colab_type": "text",
        "id": "O6SEdIrx7f79"
      },
      "source": [
        "### 4.2) Erro: uma letra a mais"
      ]
    },
    {
      "cell_type": "markdown",
      "metadata": {
        "colab_type": "text",
        "id": "Ei_VwcI9CTvS"
      },
      "source": [
        "**Exemplo: supomos que queira digitar a palavra \"programação\", mas na hora o dedo pressiona uma tecla vizinha JUNTO àquela que queríamos digitar. \"progrsamação\". (A tecla \"s\" é vizinha à tecla \"a\").**\n",
        "<br>\n",
        "<br>\n",
        "**É uma erro bastante comum, não é mesmo? Para corrigir esse erro, precisamos novamente fatiar em duas partes a palavra no lugar exato e, dessa vez, retirar a letra em excesso que se encontrará na primeira posição da fatia à direita**"
      ]
    },
    {
      "cell_type": "code",
      "execution_count": 29,
      "metadata": {
        "colab": {
          "base_uri": "https://localhost:8080/",
          "height": 34
        },
        "colab_type": "code",
        "id": "Q8O7vL04tBtP",
        "outputId": "c3cf2ea6-361c-4c86-8f1e-6651c746e753"
      },
      "outputs": [
        {
          "data": {
            "text/plain": [
              "['programação']"
            ]
          },
          "execution_count": 29,
          "metadata": {
            "tags": []
          },
          "output_type": "execute_result"
        }
      ],
      "source": [
        "# Função deletando_caracter()\n",
        "# Recebe as fatias\n",
        "def deletando_caracter(fatias):\n",
        "\n",
        "    # Criando uma lista vazia para armazenar as palavras corrigidas\n",
        "    novas_palavras = []\n",
        "\n",
        "    # Iterando por todas as tuplas da lista recebida\n",
        "    for esquerdo, direito in fatias:\n",
        "\n",
        "        # Acrescentando todas as possibilidades de palavras possíveis\n",
        "        novas_palavras.append(esquerdo + direito[1:])\n",
        "    \n",
        "    # Retornando uma lista de possíveis palavras\n",
        "    return novas_palavras\n",
        "\n",
        "# Criando um exemplo para testarmos a nova função\n",
        "exemplo = [('progr', 'samação')]\n",
        "\n",
        "# Chamando a função deletando_caracter() passando como parâmetro um exemplo\n",
        "deletando_caracter(exemplo)"
      ]
    },
    {
      "cell_type": "markdown",
      "metadata": {
        "colab_type": "text",
        "id": "-WZ7GncyGI7c"
      },
      "source": [
        "**Vamos refatorar a função gerador_palavras() para que ele consiga corrigir também esse novo erro proposto. Assim podemos reaproveitar parte do código.**"
      ]
    },
    {
      "cell_type": "code",
      "execution_count": 30,
      "metadata": {
        "colab": {
          "base_uri": "https://localhost:8080/",
          "height": 34
        },
        "colab_type": "code",
        "id": "jSjYChYatBsE",
        "outputId": "facc4751-d1ff-4e8a-8e03-ad3cee21bc1e"
      },
      "outputs": [
        {
          "name": "stdout",
          "output_type": "stream",
          "text": [
            "['aprogrsamação', 'bprogrsamação', 'cprogrsamação', 'eprogrsamação', 'dprogrsamação']\n"
          ]
        }
      ],
      "source": [
        "# Refatorando a função gerador_palavras()\n",
        "def gerador_palavras(palavra):\n",
        "\n",
        "    # Criando uma lista vazia para armazenar as duas fatias de cada palavra\n",
        "    fatias = []\n",
        "\n",
        "    # Iterando por cada letra de cada palavra\n",
        "    for i in range(len(palavra) + 1):\n",
        "\n",
        "        # Armazenando as duas fatias em uma tupla e essa tupla em uma lista\n",
        "        fatias.append((palavra[:i], palavra[i:]))\n",
        "\n",
        "    # Chamando a função insere_letras() com a lista de tuplas das fatias \n",
        "        # recém-criadas e armazenando o retorno dessa função em uma variável\n",
        "    palavras_geradas = insere_letras(fatias)\n",
        "\n",
        "    # Acrescentando mais uma função\n",
        "    # É aqui que a refatoração de fato ocorre\n",
        "    palavras_geradas += deletando_caracter(fatias)\n",
        "\n",
        "    # Retornando a lista de possíveis palavras. A palavra correta estará aí no meio\n",
        "    return palavras_geradas\n",
        "\n",
        "# Criando uma palavra de exemplo para testar a nova função gerador_palavras\n",
        "palavra_exemplo = 'progrsamação'\n",
        "\n",
        "# Chamando a função gerador_palavras() com a palavra_exemplo como parãmetro\n",
        "    # e armazenando a lista que ela retorna em uma variável\n",
        "palavras_geradas = gerador_palavras(palavra_exemplo)\n",
        "\n",
        "# Mostrando, como exemplo, uma parte da lista que a função gerador_palavras() retorna\n",
        "print(palavras_geradas[:5])"
      ]
    },
    {
      "cell_type": "code",
      "execution_count": 31,
      "metadata": {
        "colab": {
          "base_uri": "https://localhost:8080/",
          "height": 34
        },
        "colab_type": "code",
        "id": "lfQNKbTGtBpq",
        "outputId": "bc8c5842-c0c1-410b-8de5-797c2e7418c8"
      },
      "outputs": [
        {
          "name": "stdout",
          "output_type": "stream",
          "text": [
            "A palavra correta é \"programação\" e ela está dentro da lista palavras_geradas\n"
          ]
        }
      ],
      "source": [
        "# Laço para mostrar que a palavra correta está aí dentro desta lista\n",
        "for palavra in palavras_geradas:\n",
        "\n",
        "    # Selecionando a palavra correta\n",
        "    if palavra == 'programação':\n",
        "\n",
        "        # Mostrando que a palavra correta está dentro dessa lista\n",
        "        print(f'A palavra correta é \"{palavra}\" e ela está dentro da lista palavras_geradas')"
      ]
    },
    {
      "cell_type": "markdown",
      "metadata": {
        "colab_type": "text",
        "id": "innMJX2gH517"
      },
      "source": [
        "**Agora, nosso corretor tem que saber qual é a palavra correta dentro dessas inúmeras palavras geradas**"
      ]
    },
    {
      "cell_type": "code",
      "execution_count": 32,
      "metadata": {
        "colab": {
          "base_uri": "https://localhost:8080/",
          "height": 34
        },
        "colab_type": "code",
        "id": "2FUZTViiH52E",
        "outputId": "0b5002eb-235c-4a6a-cc63-196086ece100"
      },
      "outputs": [
        {
          "name": "stdout",
          "output_type": "stream",
          "text": [
            "Foram geradas 585 palavras\n"
          ]
        }
      ],
      "source": [
        "# Mostrando a quantidade de palavras que a função gerador_palavras() \n",
        "    # retornou a partir da palavra_exemplo\n",
        "print(f'Foram geradas {len(palavras_geradas)} palavras')"
      ]
    },
    {
      "cell_type": "markdown",
      "metadata": {
        "colab_type": "text",
        "id": "ukGiHDqhInAd"
      },
      "source": [
        "**Como apenas refatoramos a função gerador_palavras(), o nosso corretor já está preparado para corrigir os dois tipos de erros apresentados.**\n",
        "<br>\n",
        "<br>\n",
        "**Vamos agora avaliar ele novamente para vermos se ele melhora aquele resultado baixíssimo de antes.**"
      ]
    },
    {
      "cell_type": "code",
      "execution_count": 33,
      "metadata": {
        "colab": {
          "base_uri": "https://localhost:8080/",
          "height": 34
        },
        "colab_type": "code",
        "id": "jDrDG6-ttBoF",
        "outputId": "80d9f397-0816-42b3-a237-9d18867e5cb0"
      },
      "outputs": [
        {
          "name": "stdout",
          "output_type": "stream",
          "text": [
            "41.4% de 186 palavras\n"
          ]
        }
      ],
      "source": [
        "# Chamando a função que avalia o nosso corretor\n",
        "avaliador(lista_teste)"
      ]
    },
    {
      "cell_type": "markdown",
      "metadata": {
        "colab_type": "text",
        "id": "ZK_l8JbOJgUk"
      },
      "source": [
        "**WOW!!! Foi um belo de um upgrade no resultado, não é mesmo?**\n",
        "<br>\n",
        "<br>\n",
        "**Mas não vamos parar por aqui. Sempre dá para melhorar!!**"
      ]
    },
    {
      "cell_type": "markdown",
      "metadata": {
        "colab_type": "text",
        "id": "vuOGNJncL6aQ"
      },
      "source": [
        "## 4.3) Erro: trocando letras"
      ]
    },
    {
      "cell_type": "markdown",
      "metadata": {
        "colab_type": "text",
        "id": "T_vs3CfJMJBt"
      },
      "source": [
        "**Exemplo: supomos que queríamos digitar a palavra \"programação\", mas, sem querer, pressiona uma tecla vizinha NO LUGAR da tecla que corresponde à letra correta que queríamos de fato digitar. \"progtamação\". (A tecla \"t\" é vizinha à tecla \"r\").**\n",
        "<br>\n",
        "<br>\n",
        "**É outro tipo de erro bastante comum e precisamos lidar com ele também. Para corrigir esse erro, precisamos novamente fatiar em duas partes a palavra no lugar exato mas, dessa vez, TROCAR a letra errada pela letra correta.**"
      ]
    },
    {
      "cell_type": "code",
      "execution_count": 34,
      "metadata": {
        "colab": {
          "base_uri": "https://localhost:8080/",
          "height": 34
        },
        "colab_type": "code",
        "id": "w3BS2fyXtBla",
        "outputId": "cc2744bf-b7ee-45f3-8261-06461f9edb5d"
      },
      "outputs": [
        {
          "data": {
            "text/plain": [
              "['progaamação', 'progbamação', 'progcamação', 'progeamação', 'progdamação']"
            ]
          },
          "execution_count": 34,
          "metadata": {
            "tags": []
          },
          "output_type": "execute_result"
        }
      ],
      "source": [
        "# Função trocando_caracter()\n",
        "# Recebe uma lista de tuplas (esquerdo, direito) que corresponde aos lados \n",
        "    # esquerdo e direito da palavra fatiada em dois\n",
        "def troca_caracter(fatias):\n",
        "\n",
        "    # Criando uma lista vazia para armazenar as palavras corrigidas\n",
        "    novas_palavras = []\n",
        "\n",
        "    # Variável que armazena todas as letras do alfabeto e as vogais acentuadas\n",
        "        # É daqui que nosso corretor pegará a letra faltante\n",
        "    letras = 'abcedfghijklmnopqrstuvwxyzáâàãéêèíîìóôòõúûùç'\n",
        "\n",
        "    # Iterando por todas as tuplas da lista recebida\n",
        "    for esquerdo, direito in fatias:\n",
        "\n",
        "        # Iterando por toda letra das variável letras\n",
        "        for letra in letras:\n",
        "\n",
        "            # Acrescentando todas as possibilidades de palavras possíveis\n",
        "            novas_palavras.append(esquerdo + letra + direito[1:])\n",
        "    \n",
        "    # Retornando uma lista de possíveis palavras\n",
        "    return novas_palavras\n",
        "\n",
        "# Mostrando uma parte da lista que a função trocando_caracter() retorna como exemplo\n",
        "troca_caracter([('prog', 'tamação')])[:5]"
      ]
    },
    {
      "cell_type": "markdown",
      "metadata": {
        "colab_type": "text",
        "id": "PpR1Cq6XPg71"
      },
      "source": [
        "**Vamos refatorar mais uma vez a função gerador_palavras() para que ele consiga corrigir também esse novo erro proposto. Assim podemos reaproveitar parte do código.**"
      ]
    },
    {
      "cell_type": "code",
      "execution_count": 35,
      "metadata": {
        "colab": {
          "base_uri": "https://localhost:8080/",
          "height": 34
        },
        "colab_type": "code",
        "id": "y8TZiLVetBi3",
        "outputId": "27875c6b-c8ae-467f-fff8-d6079d25c0e7"
      },
      "outputs": [
        {
          "name": "stdout",
          "output_type": "stream",
          "text": [
            "['aprogtamação', 'bprogtamação', 'cprogtamação', 'eprogtamação', 'dprogtamação']\n"
          ]
        }
      ],
      "source": [
        "# Refatorando mais uma vez a função gerador_palavras()\n",
        "def gerador_palavras(palavra):\n",
        "\n",
        "    # Criando uma lista vazia para armazenar as duas fatias de cada palavra\n",
        "    fatias = []\n",
        "\n",
        "    # Iterando por cada letra de cada palavra\n",
        "    for i in range(len(palavra) + 1):\n",
        "\n",
        "        # Armazenando as duas fatias em uma tupla e essa tupla em uma lista\n",
        "        fatias.append((palavra[:i], palavra[i:]))\n",
        "\n",
        "    # Chamando a função insere_letras() com a lista de tuplas das fatias \n",
        "        # recém-criadas e armazenando o retorno dessa função em uma variável\n",
        "    palavras_geradas = insere_letras(fatias)\n",
        "\n",
        "    # Primeira refatoração\n",
        "    palavras_geradas += deletando_caracter(fatias)\n",
        "\n",
        "    # Acrescentando outra função\n",
        "    # É aqui que a segunda refatoração de fato ocorre\n",
        "    palavras_geradas += troca_caracter(fatias)\n",
        "\n",
        "    # Retornando a lista de possíveis palavras. A palavra correta estará aí no meio\n",
        "    return palavras_geradas\n",
        "\n",
        "# Criando uma palavra de exemplo para testar a nova função gerador_palavras\n",
        "palavra_exemplo = 'progtamação'\n",
        "\n",
        "# Chamando a função gerador_palavras() com a palavra_exemplo como parãmetro\n",
        "    # e armazenando a lista que ela retorna em uma variável\n",
        "palavras_geradas = gerador_palavras(palavra_exemplo)\n",
        "\n",
        "# Mostrando, como exemplo, uma parte da lista que a função gerador_palavras() retorna\n",
        "print(palavras_geradas[:5])"
      ]
    },
    {
      "cell_type": "markdown",
      "metadata": {
        "colab_type": "text",
        "id": "MFpiWidRdVjI"
      },
      "source": [
        "**Vamos testá-lo novamente...**"
      ]
    },
    {
      "cell_type": "code",
      "execution_count": 36,
      "metadata": {
        "colab": {
          "base_uri": "https://localhost:8080/",
          "height": 34
        },
        "colab_type": "code",
        "id": "2ix_wXjKPO8A",
        "outputId": "5a0d4c5a-5a55-4b0e-c795-b72172c0f5f6"
      },
      "outputs": [
        {
          "name": "stdout",
          "output_type": "stream",
          "text": [
            "A palavra correta é \"programação\" e ela está dentro da lista palavras_geradas\n"
          ]
        }
      ],
      "source": [
        "# Laço para mostrar que a palavra correta está aí dentro desta lista\n",
        "for palavra in palavras_geradas:\n",
        "\n",
        "    # Selecionando a palavra correta\n",
        "    if palavra == 'programação':\n",
        "\n",
        "        # Mostrando que a palavra correta está dentro dessa lista\n",
        "        print(f'A palavra correta é \"{palavra}\" e ela está dentro da lista palavras_geradas')"
      ]
    },
    {
      "cell_type": "markdown",
      "metadata": {
        "colab_type": "text",
        "id": "vUSb6raiPz7K"
      },
      "source": [
        "**Legal! Agora, vamos prepará-lo para mais um erro de digitação.**"
      ]
    },
    {
      "cell_type": "markdown",
      "metadata": {
        "colab_type": "text",
        "id": "3-47h-xbSVqw"
      },
      "source": [
        "## 4.4) Erro: invertendo letras"
      ]
    },
    {
      "cell_type": "markdown",
      "metadata": {
        "colab_type": "text",
        "id": "l-mehzUJShPw"
      },
      "source": [
        "**Exemplo: supomos que queríamos digitar a palavra \"programação\". Mas, na pressa, trocamos a letra \"g\" com a letra \"r\" resultando em \"prorgamação\".**\n",
        "<br>\n",
        "<br>\n",
        "**Mais um tipo de erro muito comum que nosso corretor tem que ser capaz de lidar. Para corrigirmos esse erro, precisamos novamente fatiar em duas partes a palavra no lugar exato mas, dessa vez, TROCAR AS POSIÇÕES das letras de index 0 com a letra de index 1 da fatia direita.**\n",
        "<br>\n",
        "<br>\n",
        "**Você notou que estamos refatorando bastante o código do nosso corretor para aproveitar coisas já escritas anteriormente. Para esse erro, será bem parecido, então para facilitar, juntaremos todas as funcões que corrigem erros numa única célula do notebook.**"
      ]
    },
    {
      "cell_type": "markdown",
      "metadata": {
        "colab_type": "text",
        "id": "bRvupY0rVtT4"
      },
      "source": [
        "**Façamos isso então...**"
      ]
    },
    {
      "cell_type": "code",
      "execution_count": null,
      "metadata": {
        "colab": {},
        "colab_type": "code",
        "id": "UOlAfeQkQaW9"
      },
      "outputs": [],
      "source": [
        "########################### Função insere_letras() ############################\n",
        "\n",
        "# Recebe uma lista de tuplas (esquerdo, direito) que corresponde aos lados \n",
        "    # esquerdo e direito da palavra fatiada em dois\n",
        "def insere_letras(fatias):\n",
        "\n",
        "    # Criando uma lista vazia para armazenar as palavras corrigidas\n",
        "    novas_palavras = []\n",
        "\n",
        "    # Variável que armazena todas as letras do alfabeto e as vogais acentuadas\n",
        "        # É daqui que nosso corretor pegará a letra faltante\n",
        "    letras = 'abcedfghijklmnopqrstuvwxyzáâàãéêèíîìóôòõúûùç'\n",
        "\n",
        "    # Iterando por todas as tuplas da lista recebida\n",
        "    for esquerdo, direito in fatias:\n",
        "\n",
        "        # Iterando por toda letra das variável letras\n",
        "        for letra in letras:\n",
        "\n",
        "            # Acrescentando todas as possibilidades de palavras possíveis\n",
        "            novas_palavras.append(esquerdo + letra + direito)\n",
        "    \n",
        "    # Retornando uma lista de possíveis palavras\n",
        "    return novas_palavras\n",
        "\n",
        "######################## Função deletando_caracter() ##########################\n",
        "\n",
        "# Função deletando_caracter()\n",
        "# Recebe as fatias\n",
        "def deletando_caracter(fatias):\n",
        "\n",
        "    # Criando uma lista vazia para armazenar as palavras corrigidas\n",
        "    novas_palavras = []\n",
        "\n",
        "    # Iterando por todas as tuplas da lista recebida\n",
        "    for esquerdo, direito in fatias:\n",
        "\n",
        "        # Acrescentando todas as possibilidades de palavras possíveis\n",
        "        novas_palavras.append(esquerdo + direito[1:])\n",
        "    \n",
        "    # Retornando uma lista de possíveis palavras\n",
        "    return novas_palavras\n",
        "\n",
        "######################## Função trocando_caracter() ###########################\n",
        "\n",
        "# Função trocando_caracter()\n",
        "# Recebe uma lista de tuplas (esquerdo, direito) que corresponde aos lados \n",
        "    # esquerdo e direito da palavra fatiada em dois\n",
        "def troca_caracter(fatias):\n",
        "\n",
        "    # Criando uma lista vazia para armazenar as palavras corrigidas\n",
        "    novas_palavras = []\n",
        "\n",
        "    # Variável que armazena todas as letras do alfabeto e as vogais acentuadas\n",
        "        # É daqui que nosso corretor pegará a letra faltante\n",
        "    letras = 'abcedfghijklmnopqrstuvwxyzáâàãéêèíîìóôòõúûùç'\n",
        "\n",
        "    # Iterando por todas as tuplas da lista recebida\n",
        "    for esquerdo, direito in fatias:\n",
        "\n",
        "        # Iterando por toda letra das variável letras\n",
        "        for letra in letras:\n",
        "\n",
        "            # Acrescentando todas as possibilidades de palavras possíveis\n",
        "            novas_palavras.append(esquerdo + letra + direito[1:])\n",
        "    \n",
        "    # Retornando uma lista de possíveis palavras\n",
        "    return novas_palavras\n",
        "\n",
        "####################### Função invertendo_caracter() ##########################\n",
        "\n",
        "# Função invertendo_caracter()\n",
        "# Recebe as fatias\n",
        "def invertendo_caracter(fatias):\n",
        "\n",
        "    # Criando uma lista vazia para armazenar as palavras corrigidas\n",
        "    novas_palavras = []\n",
        "\n",
        "    # Iterando por todas as tuplas da lista recebida\n",
        "    for esquerdo, direito in fatias:\n",
        "        \n",
        "        # Selecionando apenas as fatias da direita que têm mais de uma letra, \n",
        "            # pois, se não, não há o que inverter\n",
        "        if len(direito) > 1:\n",
        "            \n",
        "            # Acrescentando todas as possibilidades de palavras possíveis\n",
        "            novas_palavras.append(esquerdo + direito[1] + direito[0] + direito[2:])\n",
        "    \n",
        "    # Retornando uma lista de possíveis palavras\n",
        "    return novas_palavras\n",
        "\n",
        "######################### Função gerador_palavras() ###########################\n",
        "\n",
        "# Refatorando outra vez a função gerador_palavras()\n",
        "def gerador_palavras(palavra):\n",
        "\n",
        "    # Criando uma lista vazia para armazenar as duas fatias de cada palavra\n",
        "    fatias = []\n",
        "\n",
        "    # Iterando por cada letra de cada palavra\n",
        "    for i in range(len(palavra) + 1):\n",
        "\n",
        "        # Armazenando as duas fatias em uma tupla e essa tupla em uma lista\n",
        "        fatias.append((palavra[:i], palavra[i:]))\n",
        "\n",
        "    # Chamando a função insere_letras() com a lista de tuplas das fatias \n",
        "        # recém-criadas e armazenando o retorno dessa função em uma variável\n",
        "    palavras_geradas = insere_letras(fatias)\n",
        "\n",
        "    # Primeira refatoração\n",
        "    palavras_geradas += deletando_caracter(fatias)\n",
        "\n",
        "    # Segunda refatoração de fato ocorre\n",
        "    palavras_geradas += troca_caracter(fatias)\n",
        "\n",
        "    # Acrescentando outra função\n",
        "    # É aqui que a terceira refatoração de fato ocorre\n",
        "    palavras_geradas += invertendo_caracter(fatias)\n",
        "\n",
        "    # Retornando a lista de possíveis palavras. A palavra correta estará aí no meio\n",
        "    return palavras_geradas"
      ]
    },
    {
      "cell_type": "markdown",
      "metadata": {
        "colab_type": "text",
        "id": "7E1y1-_wdl_1"
      },
      "source": [
        "**Avaliando o nosso coretor.**"
      ]
    },
    {
      "cell_type": "code",
      "execution_count": 38,
      "metadata": {
        "colab": {
          "base_uri": "https://localhost:8080/",
          "height": 34
        },
        "colab_type": "code",
        "id": "ZDJYIQFRRGmO",
        "outputId": "62ddf986-569e-44da-80c7-2134826ecd14"
      },
      "outputs": [
        {
          "name": "stdout",
          "output_type": "stream",
          "text": [
            "['aprorgamação', 'bprorgamação', 'cprorgamação', 'eprorgamação', 'dprorgamação']\n"
          ]
        }
      ],
      "source": [
        "################################# AVALIANDO ###################################\n",
        "\n",
        "# Criando uma palavra de exemplo para testar a nova função gerador_palavras\n",
        "# Note o novvo erro de digitação\n",
        "palavra_exemplo = 'prorgamação'\n",
        "\n",
        "# Chamando a função gerador_palavras() com a palavra_exemplo como parãmetro\n",
        "    # e armazenando a lista que ela retorna em uma variável\n",
        "palavras_geradas = gerador_palavras(palavra_exemplo)\n",
        "\n",
        "# Mostrando, como exemplo, uma parte da lista que a função gerador_palavras() retorna\n",
        "print(palavras_geradas[:5])"
      ]
    },
    {
      "cell_type": "code",
      "execution_count": 39,
      "metadata": {
        "colab": {
          "base_uri": "https://localhost:8080/",
          "height": 34
        },
        "colab_type": "code",
        "id": "74RcVoAaRG3b",
        "outputId": "3c1a8d01-a524-4def-d340-2a522a06b5ff"
      },
      "outputs": [
        {
          "name": "stdout",
          "output_type": "stream",
          "text": [
            "A palavra correta é \"programação\" e ela está dentro da lista palavras_geradas\n"
          ]
        }
      ],
      "source": [
        "# Laço para mostrar que a palavra correta está aí dentro desta lista\n",
        "for palavra in palavras_geradas:\n",
        "\n",
        "    # Selecionando a palavra correta\n",
        "    if palavra == 'programação':\n",
        "\n",
        "        # Mostrando que a palavra correta está dentro dessa lista\n",
        "        print(f'A palavra correta é \"{palavra}\" e ela está dentro da lista palavras_geradas')"
      ]
    },
    {
      "cell_type": "markdown",
      "metadata": {
        "colab_type": "text",
        "id": "ne4wRgTdY1u4"
      },
      "source": [
        "**Pronto! Nosso corretor já está preparado para corrigir os quatro tipos de erros apresentados.**\n",
        "<br>\n",
        "<br>\n",
        "**Avaliá-lo-emos novamente para ver o seu resultado.**"
      ]
    },
    {
      "cell_type": "code",
      "execution_count": 40,
      "metadata": {
        "colab": {
          "base_uri": "https://localhost:8080/",
          "height": 34
        },
        "colab_type": "code",
        "id": "uN0bwlB2Y1u5",
        "outputId": "9a8ba2d2-fc3c-4b67-f9ae-1986a0a46cf1"
      },
      "outputs": [
        {
          "name": "stdout",
          "output_type": "stream",
          "text": [
            "76.34% de 186 palavras\n"
          ]
        }
      ],
      "source": [
        "# Chamando a função que avalia o nosso corretor\n",
        "avaliador(lista_teste)"
      ]
    },
    {
      "cell_type": "markdown",
      "metadata": {
        "colab_type": "text",
        "id": "Fa4BrWpeY1u9"
      },
      "source": [
        "**YEAH!!! Mais um belo salto no resultado do teste.**\n",
        "\n",
        "**Nosso corretor está indo muito bem, porém há uma dúvida.**\n",
        "<br>\n",
        "<br>\n",
        "**Nosso algoritmo \"conhece\" um vocabulário, aquele que vem do nosso corpus. E os testes que estamos fazendo vêm de uma lista de palavras.**\n",
        "<br>\n",
        "<br>\n",
        "**Então, podem haver palavras nessa lista que nosso algoritmo não conheça, certo? Logo, esses 23.66% de erro estão associados tanto ao erro real do corretor, quanto ao \"erro\" de desconhecer determinada palavra. Como ele fará a correção daquilo que ele não conhece?**"
      ]
    },
    {
      "cell_type": "markdown",
      "metadata": {
        "colab_type": "text",
        "id": "A0a8DfWjc9rd"
      },
      "source": [
        "**Primeiramente, precisamos saber qual é a porcentagem que corresponde ao desconhecimento de determinadas palavras.**\n",
        "<br>\n",
        "<br>\n",
        "**Então vamos refatorar a função avaliador para que ela possa nos fornecer também essa a porcentagem.**"
      ]
    },
    {
      "cell_type": "code",
      "execution_count": 41,
      "metadata": {
        "colab": {
          "base_uri": "https://localhost:8080/",
          "height": 51
        },
        "colab_type": "code",
        "id": "-ynms0ufRG_s",
        "outputId": "d5b3f513-0750-43f9-f415-4965b7e87eef"
      },
      "outputs": [
        {
          "name": "stdout",
          "output_type": "stream",
          "text": [
            "76.34% de 186 das palavras conhecidas\n",
            "e 6.99% das palavras desconhecidas\n"
          ]
        }
      ],
      "source": [
        "# Função avaliador()\n",
        "# Recebe uma lista com as tuplas de palavras de teste para poder\n",
        "    # avaliar o nosso corretor\n",
        "def avaliador(testes, vocabulario):\n",
        "\n",
        "    # Calculando o número de palavras da lista de teste\n",
        "    numero_palavras = len(testes)\n",
        "\n",
        "    # Setando os contadores\n",
        "    acertou = desconhecidas = 0\n",
        "\n",
        "    # Iterando por cada tupla dentro da lista de teste\n",
        "    for correta, errada in testes:\n",
        "\n",
        "        # Chamando a função corretor() passando cada palavra\n",
        "            # digitada incorretamente\n",
        "        palavra_corrigida = corretor(errada)\n",
        "\n",
        "        # Incrementando o contador das palavras desconhecidas\n",
        "        desconhecidas += (correta not in vocabulario)\n",
        "        \n",
        "        # Conferindo cada palavra para ver se ele conseguiu corrigir\n",
        "        if palavra_corrigida == correta:\n",
        "\n",
        "            # Incrementando o contador das palavras corretas\n",
        "            acertou += 1\n",
        "    \n",
        "    # Calculando a taxa de acerto do nosso corretor\n",
        "    taxa_acerto = round(acertou * 100 / numero_palavras, 2)\n",
        "\n",
        "    # Calculando a taxa de erro referente às palavras desconhecidas\n",
        "    taxa_desconhecidas = round(desconhecidas * 100 / numero_palavras, 2)\n",
        "\n",
        "    # Mostrando a taxa de acerto doe nosso corretor\n",
        "    print(f'{taxa_acerto}% de {numero_palavras} das palavras conhecidas\\n'\n",
        "          f'e {taxa_desconhecidas}% das palavras desconhecidas')\n",
        "\n",
        "# Calculando as palavras conecidas\n",
        "vocabulario = set(lista_normalizada)\n",
        "\n",
        "# Chamando a função avaliador()\n",
        "avaliador(lista_teste, vocabulario)"
      ]
    },
    {
      "cell_type": "markdown",
      "metadata": {
        "colab_type": "text",
        "id": "x_o8ydKHcgj_"
      },
      "source": [
        "**Pronto! Agora sabemos que 6.99% das palavras avaliadas são desconhecidas pelo nosso corretor.**"
      ]
    },
    {
      "cell_type": "markdown",
      "metadata": {
        "colab_type": "text",
        "id": "0S4ijUamhKco"
      },
      "source": [
        "## 4.5) Erro: palavras a duas letras de distância da palavra correta"
      ]
    },
    {
      "cell_type": "markdown",
      "metadata": {
        "colab_type": "text",
        "id": "UWFt8BekfNhl"
      },
      "source": [
        "**Até agora, o nosso corretor consegue corrigir palavras que estão a uma única distância da palavras correta. Ou seja, ele só consegue corrigir palavras com apenas uma letra errada a mais ou a menos.**\n",
        "<br>\n",
        "<br>\n",
        "**Por exemplo, quando digitamos \"prorrgramação\" ao invés de \"programação\".**"
      ]
    },
    {
      "cell_type": "markdown",
      "metadata": {
        "colab_type": "text",
        "id": "RjHC3ZPqrqlw"
      },
      "source": [
        " **Veja que, o jeito que está, nosso corretor não consegue corrigir esse tipo de problema.**"
      ]
    },
    {
      "cell_type": "code",
      "execution_count": 42,
      "metadata": {
        "colab": {
          "base_uri": "https://localhost:8080/",
          "height": 34
        },
        "colab_type": "code",
        "id": "W_A5dneUfyuJ",
        "outputId": "4a2cef26-02d2-49b4-dce9-6426ecddf205"
      },
      "outputs": [
        {
          "data": {
            "text/plain": [
              "'aprorrgramação'"
            ]
          },
          "execution_count": 42,
          "metadata": {
            "tags": []
          },
          "output_type": "execute_result"
        }
      ],
      "source": [
        "palavra_exemplo = 'prorrgramação'\n",
        "corretor(palavra_exemplo)"
      ]
    },
    {
      "cell_type": "markdown",
      "metadata": {
        "colab_type": "text",
        "id": "LPuAB1cRr3Wk"
      },
      "source": [
        "**Vamos trabalhar um pouco mais no algortimo do nosso corretor para que ele seja capaz de corrigir as palavras que estão a duas letras distância da palavra correta.**"
      ]
    },
    {
      "cell_type": "code",
      "execution_count": null,
      "metadata": {
        "colab": {},
        "colab_type": "code",
        "id": "cKYUQP2niHmG"
      },
      "outputs": [],
      "source": [
        "# Função gerador_inception()\n",
        "def gerador_inception(palavras_geradas):\n",
        "\n",
        "    # Criando uma nova lista para armazenar as novas palavras\n",
        "    novas_palavras = []\n",
        "\n",
        "    # Iterando em cada palavra da lista recebida\n",
        "    for palavra in palavras_geradas:\n",
        "\n",
        "        # Chamando a função gerador_palavras() aqui dentro da nova função\n",
        "            # Por isso o nome gerador_inception()\n",
        "        novas_palavras += gerador_palavras(palavra)\n",
        "    \n",
        "    # Retornando as novas palavras\n",
        "    return novas_palavras"
      ]
    },
    {
      "cell_type": "markdown",
      "metadata": {
        "colab_type": "text",
        "id": "GSmeXNn6tD2A"
      },
      "source": [
        "**Porém, o retorno  dessa função gerador_inception() é muito grande. E como teremos que calcular a probabilidade de cada uma dessas palavras aparecer em nosso corpus, estamos sobrecarregando o nosso corretor com cálculos desnecessários, já que a imensa maioria das palavras aí geradas são palavras que não existem.**\n",
        "<br>\n",
        "<br>\n",
        "**Vejamos...**"
      ]
    },
    {
      "cell_type": "code",
      "execution_count": 44,
      "metadata": {
        "colab": {
          "base_uri": "https://localhost:8080/",
          "height": 34
        },
        "colab_type": "code",
        "id": "hGkd_1KMtBi2",
        "outputId": "91012049-5ef0-4717-be00-9b8631b92948"
      },
      "outputs": [
        {
          "name": "stdout",
          "output_type": "stream",
          "text": [
            "A quantidade de possíveis palavras geradas é 1640794\n"
          ]
        }
      ],
      "source": [
        "# Calculando o número de palavras geradas ao chamar a função gerador_palavras()\n",
        "    # dentro da função gerador_inception()\n",
        "palavras_geradas = gerador_inception(gerador_palavras(palavra_exemplo))\n",
        "print(f'A quantidade de possíveis palavras geradas é {len(palavras_geradas)}')"
      ]
    },
    {
      "cell_type": "markdown",
      "metadata": {
        "colab_type": "text",
        "id": "81wpghOeuS8m"
      },
      "source": [
        "**E aí dentro dessa imensidão de palavras, está a palavra correta. Porém, tem muito lixo.**"
      ]
    },
    {
      "cell_type": "code",
      "execution_count": 45,
      "metadata": {
        "colab": {
          "base_uri": "https://localhost:8080/",
          "height": 34
        },
        "colab_type": "code",
        "id": "N3n4y1zIuP_P",
        "outputId": "5988578b-fda7-465f-ee4f-82884b79c2da"
      },
      "outputs": [
        {
          "data": {
            "text/plain": [
              "True"
            ]
          },
          "execution_count": 45,
          "metadata": {
            "tags": []
          },
          "output_type": "execute_result"
        }
      ],
      "source": [
        "# Mostrando que a palavra correta está nesse monte de lixo\n",
        "\n",
        "'programação' in palavras_geradas"
      ]
    },
    {
      "cell_type": "markdown",
      "metadata": {
        "colab_type": "text",
        "id": "C2vmumKN1LfI"
      },
      "source": [
        "**Então, vamos criar uma nova função corretor que não precise calcular a probabilidade de tantas palavras que nem existem. Vamos chamá-la de corretor_super_sayajin()**"
      ]
    },
    {
      "cell_type": "code",
      "execution_count": null,
      "metadata": {
        "colab": {},
        "colab_type": "code",
        "id": "JvRT_Xl8jk8w"
      },
      "outputs": [],
      "source": [
        "# Função corretor_super_sayajin()\n",
        "# Recebe como parâmetro a palavra errada e retorna ela corrigida\n",
        "def corretor_super_sayajin(palavra_errada):\n",
        "\n",
        "    # Chama a função gerador_palavras() usando como parâmetro a palavra \n",
        "        # escrita de forma incorreta\n",
        "    palavras_geradas = gerador_palavras(palavra_errada)\n",
        "\n",
        "    # Chamando a função gerador_inception() e armazenando o seu retorno\n",
        "        # em uma variável\n",
        "    palavras_inception = gerador_inception(palavras_geradas)\n",
        "\n",
        "    # Juntando todas as palavras geradas\n",
        "    todas_palavras = set(palavras_geradas + palavras_inception)\n",
        "\n",
        "    # Criando uma lista para armazenar os possíveis candidatos a palavra \n",
        "    candidatos = [palavra_errada]\n",
        "\n",
        "    # Iterando por todas as palavras geradas pelas duas funções\n",
        "    for palavra in todas_palavras:\n",
        "\n",
        "        # Verificando se a palavra já se encontra no vocabulário\n",
        "        if palavra in vocabulario:\n",
        "\n",
        "            # Adicionando a palvara a lista de candidatos\n",
        "            candidatos.append(palavra)\n",
        "\n",
        "    # Mostrando quantos e quais são os candidatos\n",
        "    print(f'Temos {len(candidatos)} candidatos a palavra correta.\\n'\n",
        "          f'São eles {candidatos}')\n",
        "\n",
        "    # Selecionando a palavra com maior probabilidade de aparecer em nosso corpus\n",
        "        # Essa será a palavra correta\n",
        "    palavra_correta = max(candidatos, key=probabilidade)\n",
        "\n",
        "    # Retornando a palavra corrigida\n",
        "    return palavra_correta"
      ]
    },
    {
      "cell_type": "markdown",
      "metadata": {
        "colab_type": "text",
        "id": "QZ6dMbxg4Vr7"
      },
      "source": [
        "**Pronto! Agora, vamos comparar a antiga função corretor() com a nova função corretor_super_sayajin()**"
      ]
    },
    {
      "cell_type": "code",
      "execution_count": 47,
      "metadata": {
        "colab": {
          "base_uri": "https://localhost:8080/",
          "height": 102
        },
        "colab_type": "code",
        "id": "3BxdMk7IrONw",
        "outputId": "1dc00404-a055-4156-ea67-140dede76b1e"
      },
      "outputs": [
        {
          "name": "stdout",
          "output_type": "stream",
          "text": [
            "Antiga função corretor()\n",
            "========================\n",
            "\n",
            "Entrada ==> prorrgramação\n",
            "Retorno ==> aprorrgramação\n"
          ]
        }
      ],
      "source": [
        "# Chamando a função antiga função corretor()\n",
        "antes = corretor(palavra_exemplo)\n",
        "\n",
        "# Mostrando o retorno da antiga função corretor()\n",
        "print('Antiga função corretor()\\n'\n",
        "      '========================\\n\\n'\n",
        "     f'Entrada ==> {palavra_exemplo}\\n'\n",
        "     f'Retorno ==> {antes}')"
      ]
    },
    {
      "cell_type": "code",
      "execution_count": 48,
      "metadata": {
        "colab": {
          "base_uri": "https://localhost:8080/",
          "height": 187
        },
        "colab_type": "code",
        "id": "UIc7i2WCrSmM",
        "outputId": "752c8789-e58d-420d-c7a3-24196b25273f"
      },
      "outputs": [
        {
          "name": "stdout",
          "output_type": "stream",
          "text": [
            "Com a novoa função corretor_super_sayajin():\n",
            "\n",
            "Temos 2 candidatos a palavra correta.\n",
            "São eles ['prorrgramação', 'programação']\n",
            "\n",
            "Nova função nova função corretor_super_sayajin()\n",
            "==============================================\n",
            "\n",
            "Entrada ==> prorrgramação\n",
            "Retorno ==> programação\n"
          ]
        }
      ],
      "source": [
        "# Um print() para melhor visualizar os resultados\n",
        "print('Com a novoa função corretor_super_sayajin():\\n')\n",
        "\n",
        "# Chamando a função nova função corretor_super_sayajin()\n",
        "depois = corretor_super_sayajin(palavra_exemplo)\n",
        "\n",
        "# Mostrando o retorno da nova função corretor_super_sayajin()\n",
        "print('\\nNova função nova função corretor_super_sayajin()\\n'\n",
        "      '==============================================\\n\\n'\n",
        "     f'Entrada ==> {palavra_exemplo}\\n'\n",
        "     f'Retorno ==> {depois}')"
      ]
    },
    {
      "cell_type": "markdown",
      "metadata": {
        "colab_type": "text",
        "id": "VP5Fok3O79Hx"
      },
      "source": [
        "# 5) Avaliando os resultados do corretor final e concluindo"
      ]
    },
    {
      "cell_type": "markdown",
      "metadata": {
        "colab_type": "text",
        "id": "BP_54VO8hJOn"
      },
      "source": [
        "## 5.1) Avaliando"
      ]
    },
    {
      "cell_type": "markdown",
      "metadata": {
        "colab_type": "text",
        "id": "KJdE50DS9B3-"
      },
      "source": [
        "**Antes de avaliar a nova função corretor_super_sayajin() utilizando a lista_teste, precisamos retirar o print() que existe dentro da nova função corretor_super_sayajin(), para que ela não imprima na tela quantos e quais são os possíveis candidatos para todas as 186 palavras que ele irá testar.**"
      ]
    },
    {
      "cell_type": "code",
      "execution_count": null,
      "metadata": {
        "colab": {},
        "colab_type": "code",
        "id": "qJtC8Gqv64Dh"
      },
      "outputs": [],
      "source": [
        "# Função corretor_super_sayajin()\n",
        "# Recebe como parâmetro a palavra errada e retorna ela corrigida\n",
        "def corretor_super_sayajin(palavra_errada):\n",
        "\n",
        "    # Chama a função gerador_palavras() usando como parâmetro a palavra \n",
        "        # escrita de forma incorreta\n",
        "    palavras_geradas = gerador_palavras(palavra_errada)\n",
        "\n",
        "    # Chamando a função gerador_inception() e armazenando o seu retorno\n",
        "        # em uma variável\n",
        "    palavras_inception = gerador_inception(palavras_geradas)\n",
        "\n",
        "    # Juntando todas as palavras geradas\n",
        "    todas_palavras = set(palavras_geradas + palavras_inception)\n",
        "\n",
        "    # Criando uma lista para armazenar os possíveis candidatos a palavra \n",
        "    candidatos = [palavra_errada]\n",
        "\n",
        "    # Iterando por todas as palavras geradas pelas duas funções\n",
        "    for palavra in todas_palavras:\n",
        "\n",
        "        # Verificando se a palavra já se encontra no vocabulário\n",
        "        if palavra in vocabulario:\n",
        "\n",
        "            # Adicionando a palvara a lista de candidatos\n",
        "            candidatos.append(palavra)\n",
        "\n",
        "    # Selecionando a palavra com maior probabilidade de aparecer em nosso corpus\n",
        "        # Essa será a palavra correta\n",
        "    palavra_correta = max(candidatos, key=probabilidade)\n",
        "\n",
        "    # Retornando a palavra corrigida\n",
        "    return palavra_correta"
      ]
    },
    {
      "cell_type": "code",
      "execution_count": 50,
      "metadata": {
        "colab": {
          "base_uri": "https://localhost:8080/",
          "height": 34
        },
        "colab_type": "code",
        "id": "0xgIn7t0_Wz3",
        "outputId": "97f4ce38-bc49-4280-f2dc-ea9ea6290dd1"
      },
      "outputs": [
        {
          "data": {
            "text/plain": [
              "'programação'"
            ]
          },
          "execution_count": 50,
          "metadata": {
            "tags": []
          },
          "output_type": "execute_result"
        }
      ],
      "source": [
        "# Mostrando que a nova função corretor_super_sayajin() não imprime mais \n",
        "    # quantos e quias são os possíveis candidatos\n",
        "corretor_super_sayajin(palavra_exemplo)"
      ]
    },
    {
      "cell_type": "markdown",
      "metadata": {
        "colab_type": "text",
        "id": "JlpxR7Hx_0c9"
      },
      "source": [
        "**E precisamos também, dentro da função avaliador(), trocar o nome da função corretor() para corretor_super_sayajin()**"
      ]
    },
    {
      "cell_type": "code",
      "execution_count": 51,
      "metadata": {
        "colab": {
          "base_uri": "https://localhost:8080/",
          "height": 51
        },
        "colab_type": "code",
        "id": "Myk3KpzL_wyD",
        "outputId": "2b18a8b6-4785-4c84-e505-7dd1554960ea"
      },
      "outputs": [
        {
          "name": "stdout",
          "output_type": "stream",
          "text": [
            "55.91% de 186 das palavras conhecidas\n",
            "e 6.99% das palavras desconhecidas\n"
          ]
        }
      ],
      "source": [
        "# Função avaliador()\n",
        "# Recebe uma lista com as tuplas de palavras de teste para poder\n",
        "    # avaliar o nosso corretor\n",
        "def avaliador(testes, vocabulario):\n",
        "\n",
        "    # Calculando o número de palavras da lista de teste\n",
        "    numero_palavras = len(testes)\n",
        "\n",
        "    # Setando os contadores\n",
        "    acertou = desconhecidas = 0\n",
        "\n",
        "    # Iterando por cada tupla dentro da lista de teste\n",
        "    for correta, errada in testes:\n",
        "\n",
        "        # Chamando a função corretor() passando cada palavra\n",
        "            # digitada incorretamente\n",
        "        palavra_corrigida = corretor_super_sayajin(errada)\n",
        "\n",
        "        # Incrementando o contador das palavras desconhecidas\n",
        "        desconhecidas += (correta not in vocabulario)\n",
        "        \n",
        "        # Conferindo cada palavra para ver se ele conseguiu corrigir\n",
        "        if palavra_corrigida == correta:\n",
        "\n",
        "            # Incrementando o contador das palavras corretas\n",
        "            acertou += 1\n",
        "    \n",
        "    # Calculando a taxa de acerto do nosso corretor\n",
        "    taxa_acerto = round(acertou * 100 / numero_palavras, 2)\n",
        "\n",
        "    # Calculando a taxa de erro referente às palavras desconhecidas\n",
        "    taxa_desconhecidas = round(desconhecidas * 100 / numero_palavras, 2)\n",
        "\n",
        "    # Mostrando a taxa de acerto doe nosso corretor\n",
        "    print(f'{taxa_acerto}% de {numero_palavras} das palavras conhecidas\\n'\n",
        "          f'e {taxa_desconhecidas}% das palavras desconhecidas')\n",
        "\n",
        "# Calculando as palavras conecidas\n",
        "vocabulario = set(lista_normalizada)\n",
        "\n",
        "# Chamando a função avaliador()\n",
        "avaliador(lista_teste, vocabulario)"
      ]
    },
    {
      "cell_type": "markdown",
      "metadata": {
        "colab_type": "text",
        "id": "0846-UA7rQ6R"
      },
      "source": [
        "**Oh não! Caiu demais a taxa de acerto!**\n",
        "<br>\n",
        "<br>\n",
        "**Vamos ver o que aconteceu imprimindo, para cada palavra testada:**\n",
        "<br>\n",
        "<br>\n",
        "**a palavra errada - a corrigida pela antiga função corretor() - a corrigida pela nova função corretor_super_sayajin()**"
      ]
    },
    {
      "cell_type": "code",
      "execution_count": 52,
      "metadata": {
        "colab": {
          "base_uri": "https://localhost:8080/",
          "height": 1000
        },
        "colab_type": "code",
        "id": "XRvyjfLnBfUG",
        "outputId": "e119fc40-39f1-4ab1-95cd-0649e1a0f7d7"
      },
      "outputs": [
        {
          "name": "stdout",
          "output_type": "stream",
          "text": [
            "esje - esse - se\n",
            "sãêo - são - não\n",
            "dosa - dos - do\n",
            "eme - em - de\n",
            "eàssa - essa - esse\n",
            "daõs - das - da\n",
            "céda - cada - da\n",
            "noâ - no - o\n",
            "enêão - então - não\n",
            "tĩem - tem - em\n",
            "nossah - nossa - nosso\n",
            "teb - tem - de\n",
            "atĩ - até - a\n",
            "âem - em - de\n",
            "foo - foi - o\n",
            "serr - ser - se\n",
            "entke - entre - então\n",
            "van - vai - a\n",
            "çeus - seus - seu\n",
            "eû - e - de\n",
            "temeo - tempo - temos\n",
            "semre - sempre - ser\n",
            "elaá - ela - ele\n",
            "síó - só - se\n",
            "siàe - site - se\n",
            "seém - sem - em\n",
            "peln - pelo - ele\n",
            "aléra - alura - agora\n",
            "tdia - dia - da\n",
            "jé - é - de\n",
            "sãô - são - não\n",
            "odos - dos - do\n",
            "siua - sua - seu\n",
            "elpe - ele - esse\n",
            "teos - temos - os\n",
            "eũsa - essa - esse\n",
            "vjmos - vamos - temos\n",
            "dms - dos - de\n",
            "cava - java - para\n",
            "ános - nos - no\n",
            "èaso - caso - as\n",
            "túem - tem - em\n",
            "daáos - dados - dos\n",
            "nossk - nosso - nosso\n",
            "tãer - ter - ser\n",
            "vté - até - é\n",
            "búm - bem - um\n",
            "sçerá - será - ser\n",
            "entró - entre - então\n",
            "uai - vai - a\n",
            "sâus - seus - seu\n",
            "ìeu - seu - de\n",
            "fual - qual - sua\n",
            "elal - ela - ele\n",
            "skó - só - se\n",
            "secm - sem - em\n",
            "aluéa - alura - além\n",
            "dil - dia - de\n",
            "sód - só - se\n",
            "eúaa - aeúaa - essa\n",
            "ró - só - de\n",
            "dĩaz - adĩaz - da\n",
            "correptor - corretor - correto\n",
            "trtica - tática - prática\n",
            "ewpoderamento - aewpoderamento - ewpoderamento\n",
            "îgato - gato - fato\n",
            "cakvalo - acakvalo - carvalho\n",
            "canelac - acanelac - janela\n",
            "tênisy - atênisy - tênisy\n",
            "anciosa - aanciosa - ansioso\n",
            "ancciosa - aancciosa - ancciosa\n",
            "ansioa - aansioa - antiga\n",
            "asterístico - aasterístico - asterístico\n",
            "entertido - aentertido - entendido\n",
            "ritimo - ritmo - ótimo\n",
            "indiota - aindiota - indica\n",
            "tomare - tomar - tomar\n",
            "seje - seja - se\n",
            "provalecer - aprovalecer - prevaleceu\n",
            "esteje - esteja - este\n",
            "mindigo - amindigo - indico\n",
            "pertubar - apertubar - derrubar\n",
            "\n",
            "\n",
            "55.91% de 186 das palavras conhecidas\n",
            "e 6.99% das palavras desconhecidas\n"
          ]
        }
      ],
      "source": [
        "# Função avaliador()\n",
        "# Recebe uma lista com as tuplas de palavras de teste para poder\n",
        "    # avaliar o nosso corretor\n",
        "def avaliador(testes, vocabulario):\n",
        "\n",
        "    # Calculando o número de palavras da lista de teste\n",
        "    numero_palavras = len(testes)\n",
        "\n",
        "    # Setando os contadores\n",
        "    acertou = desconhecidas = 0\n",
        "\n",
        "    # Iterando por cada tupla dentro da lista de teste\n",
        "    for correta, errada in testes:\n",
        "\n",
        "        # Chamando a função corretor() passando cada palavra\n",
        "            # digitada incorretamente\n",
        "        palavra_corrigida = corretor_super_sayajin(errada)\n",
        "\n",
        "        # Incrementando o contador das palavras desconhecidas\n",
        "        desconhecidas += (correta not in vocabulario)\n",
        "        \n",
        "        # Conferindo cada palavra para ver se ele conseguiu corrigir\n",
        "        if palavra_corrigida == correta:\n",
        "\n",
        "            # Incrementando o contador das palavras corretas\n",
        "            acertou += 1\n",
        "\n",
        "        #\n",
        "        else:\n",
        "            print(f\"{errada} - {corretor(errada)} - {palavra_corrigida}\")\n",
        "    \n",
        "    # Calculando a taxa de acerto do nosso corretor\n",
        "    taxa_acerto = round(acertou * 100 / numero_palavras, 2)\n",
        "\n",
        "    # Calculando a taxa de erro referente às palavras desconhecidas\n",
        "    taxa_desconhecidas = round(desconhecidas * 100 / numero_palavras, 2)\n",
        "\n",
        "    # Mostrando a taxa de acerto doe nosso corretor\n",
        "    print(f'\\n\\n{taxa_acerto}% de {numero_palavras} das palavras conhecidas\\n'\n",
        "          f'e {taxa_desconhecidas}% das palavras desconhecidas')\n",
        "\n",
        "# Calculando as palavras conecidas\n",
        "vocabulario = set(lista_normalizada)\n",
        "\n",
        "# Chamando a função avaliador()\n",
        "avaliador(lista_teste, vocabulario)"
      ]
    },
    {
      "cell_type": "markdown",
      "metadata": {
        "colab_type": "text",
        "id": "ThfT1vwIbp59"
      },
      "source": [
        "**Com esse print(), podemos notar que um dos motivos de o novo corretor se sai pior que o antigo, é porque os erros que o mais jovem gera estão associados ao fato dele gerar tanto a possível palavra correta quanto uma variação existente no vocabulário que apresente maior frequência. Se a frequência for maior, a probabilidade de ser a palavra correta também é maior. Por isso, ele apresenta mais erros quando testado nessa lista_teste.**"
      ]
    },
    {
      "cell_type": "markdown",
      "metadata": {
        "colab_type": "text",
        "id": "dJpx-eKMdTSB"
      },
      "source": [
        "**Outro motivo dos erros associados ao novo corretor é a restrição imposta pelo vocabulário do corretor, ou seja, a fonte dos dados em que ele foi treinado.**\n",
        "<br>\n",
        "<br>\n",
        "**Repare que nós não modificamos a base de treinamento do corretor, assim, ainda existe uma parcela do erro devido às limitações do vocabulário.**"
      ]
    },
    {
      "cell_type": "markdown",
      "metadata": {
        "colab_type": "text",
        "id": "B5CWpu9JeKgv"
      },
      "source": [
        "## 5.2) Conclusão\n",
        "\n",
        "<br>\n",
        "<br>\n",
        "\n",
        "**Para a nossa base de dados de treinamento e de avaliação, o corretor() se saiu bem melhor que o corretor_super_sayajin() apesar de o segundo estar preparado para um tipo de erro a mais que o primeiro.**"
      ]
    },
    {
      "cell_type": "markdown",
      "metadata": {
        "colab_type": "text",
        "id": "THy8tc5oqsBC"
      },
      "source": [
        "# 6) Preparando o melhor corretor"
      ]
    },
    {
      "cell_type": "markdown",
      "metadata": {
        "colab_type": "text",
        "id": "U883-5aeq4Tn"
      },
      "source": [
        "**Vamos juntar os códigos do melhor corretor para organizar.**"
      ]
    },
    {
      "cell_type": "code",
      "execution_count": 69,
      "metadata": {
        "colab": {
          "base_uri": "https://localhost:8080/",
          "height": 51
        },
        "colab_type": "code",
        "id": "WZ57T9ORrUGW",
        "outputId": "f1802878-5aa0-4d03-a24e-357e080545aa"
      },
      "outputs": [
        {
          "name": "stdout",
          "output_type": "stream",
          "text": [
            "76.34% de 186 das palavras conhecidas\n",
            "e 6.99% das palavras desconhecidas\n"
          ]
        }
      ],
      "source": [
        "########################### Função insere_letras() ############################\n",
        "\n",
        "# Recebe uma lista de tuplas (esquerdo, direito) que corresponde aos lados \n",
        "    # esquerdo e direito da palavra fatiada em dois\n",
        "def insere_letras(fatias):\n",
        "\n",
        "    # Criando uma lista vazia para armazenar as palavras corrigidas\n",
        "    novas_palavras = []\n",
        "\n",
        "    # Variável que armazena todas as letras do alfabeto e as vogais acentuadas\n",
        "        # É daqui que nosso corretor pegará a letra faltante\n",
        "    letras = 'abcedfghijklmnopqrstuvwxyzáâàãéêèíîìóôòõúûùç'\n",
        "\n",
        "    # Iterando por todas as tuplas da lista recebida\n",
        "    for esquerdo, direito in fatias:\n",
        "\n",
        "        # Iterando por toda letra das variável letras\n",
        "        for letra in letras:\n",
        "\n",
        "            # Acrescentando todas as possibilidades de palavras possíveis\n",
        "            novas_palavras.append(esquerdo + letra + direito)\n",
        "    \n",
        "    # Retornando uma lista de possíveis palavras\n",
        "    return novas_palavras\n",
        "\n",
        "######################## Função deletando_caracter() ##########################\n",
        "\n",
        "# Função deletando_caracter()\n",
        "# Recebe as fatias\n",
        "def deletando_caracter(fatias):\n",
        "\n",
        "    # Criando uma lista vazia para armazenar as palavras corrigidas\n",
        "    novas_palavras = []\n",
        "\n",
        "    # Iterando por todas as tuplas da lista recebida\n",
        "    for esquerdo, direito in fatias:\n",
        "\n",
        "        # Acrescentando todas as possibilidades de palavras possíveis\n",
        "        novas_palavras.append(esquerdo + direito[1:])\n",
        "    \n",
        "    # Retornando uma lista de possíveis palavras\n",
        "    return novas_palavras\n",
        "\n",
        "######################## Função trocando_caracter() ###########################\n",
        "\n",
        "# Função trocando_caracter()\n",
        "# Recebe uma lista de tuplas (esquerdo, direito) que corresponde aos lados \n",
        "    # esquerdo e direito da palavra fatiada em dois\n",
        "def troca_caracter(fatias):\n",
        "\n",
        "    # Criando uma lista vazia para armazenar as palavras corrigidas\n",
        "    novas_palavras = []\n",
        "\n",
        "    # Variável que armazena todas as letras do alfabeto e as vogais acentuadas\n",
        "        # É daqui que nosso corretor pegará a letra faltante\n",
        "    letras = 'abcedfghijklmnopqrstuvwxyzáâàãéêèíîìóôòõúûùç'\n",
        "\n",
        "    # Iterando por todas as tuplas da lista recebida\n",
        "    for esquerdo, direito in fatias:\n",
        "\n",
        "        # Iterando por toda letra das variável letras\n",
        "        for letra in letras:\n",
        "\n",
        "            # Acrescentando todas as possibilidades de palavras possíveis\n",
        "            novas_palavras.append(esquerdo + letra + direito[1:])\n",
        "    \n",
        "    # Retornando uma lista de possíveis palavras\n",
        "    return novas_palavras\n",
        "\n",
        "####################### Função invertendo_caracter() ##########################\n",
        "\n",
        "# Função invertendo_caracter()\n",
        "# Recebe as fatias\n",
        "def invertendo_caracter(fatias):\n",
        "\n",
        "    # Criando uma lista vazia para armazenar as palavras corrigidas\n",
        "    novas_palavras = []\n",
        "\n",
        "    # Iterando por todas as tuplas da lista recebida\n",
        "    for esquerdo, direito in fatias:\n",
        "        \n",
        "        # Selecionando apenas as fatias da direita que têm mais de uma letra, \n",
        "            # pois, se não, não há o que inverter\n",
        "        if len(direito) > 1:\n",
        "            \n",
        "            # Acrescentando todas as possibilidades de palavras possíveis\n",
        "            novas_palavras.append(esquerdo + direito[1] + direito[0] + direito[2:])\n",
        "    \n",
        "    # Retornando uma lista de possíveis palavras\n",
        "    return novas_palavras\n",
        "\n",
        "######################### Função gerador_palavras() ###########################\n",
        "\n",
        "# Refatorando outra vez a função gerador_palavras()\n",
        "def gerador_palavras(palavra):\n",
        "\n",
        "    # Criando uma lista vazia para armazenar as duas fatias de cada palavra\n",
        "    fatias = []\n",
        "\n",
        "    # Iterando por cada letra de cada palavra\n",
        "    for i in range(len(palavra) + 1):\n",
        "\n",
        "        # Armazenando as duas fatias em uma tupla e essa tupla em uma lista\n",
        "        fatias.append((palavra[:i], palavra[i:]))\n",
        "\n",
        "    # Chamando a função insere_letras() com a lista de tuplas das fatias \n",
        "        # recém-criadas e armazenando o retorno dessa função em uma variável\n",
        "    palavras_geradas = insere_letras(fatias)\n",
        "\n",
        "    # Primeira refatoração\n",
        "    palavras_geradas += deletando_caracter(fatias)\n",
        "\n",
        "    # Segunda refatoração de fato ocorre\n",
        "    palavras_geradas += troca_caracter(fatias)\n",
        "\n",
        "    # Acrescentando outra função\n",
        "    # É aqui que a terceira refatoração de fato ocorre\n",
        "    palavras_geradas += invertendo_caracter(fatias)\n",
        "\n",
        "    # Retornando a lista de possíveis palavras. A palavra correta estará aí no meio\n",
        "    return palavras_geradas\n",
        "\n",
        "############################# Função avaliador() ###############################\n",
        "\n",
        "# Função avaliador()\n",
        "# Recebe uma lista com as tuplas de palavras de teste para poder\n",
        "    # avaliar o nosso corretor\n",
        "def avaliador(testes, vocabulario):\n",
        "\n",
        "    # Calculando o número de palavras da lista de teste\n",
        "    numero_palavras = len(testes)\n",
        "\n",
        "    # Setando os contadores\n",
        "    acertou = desconhecidas = 0\n",
        "\n",
        "    # Iterando por cada tupla dentro da lista de teste\n",
        "    for correta, errada in testes:\n",
        "\n",
        "        # Chamando a função corretor() passando cada palavra\n",
        "            # digitada incorretamente\n",
        "        palavra_corrigida = corretor(errada)\n",
        "\n",
        "        # Incrementando o contador das palavras desconhecidas\n",
        "        desconhecidas += (correta not in vocabulario)\n",
        "        \n",
        "        # Conferindo cada palavra para ver se ele conseguiu corrigir\n",
        "        if palavra_corrigida == correta:\n",
        "\n",
        "            # Incrementando o contador das palavras corretas\n",
        "            acertou += 1\n",
        "    \n",
        "    # Calculando a taxa de acerto do nosso corretor\n",
        "    taxa_acerto = round(acertou * 100 / numero_palavras, 2)\n",
        "\n",
        "    # Calculando a taxa de erro referente às palavras desconhecidas\n",
        "    taxa_desconhecidas = round(desconhecidas * 100 / numero_palavras, 2)\n",
        "\n",
        "    # Mostrando a taxa de acerto doe nosso corretor\n",
        "    print(f'{taxa_acerto}% de {numero_palavras} das palavras conhecidas\\n'\n",
        "          f'e {taxa_desconhecidas}% das palavras desconhecidas')\n",
        "\n",
        "# Calculando as palavras conecidas\n",
        "vocabulario = set(lista_normalizada)\n",
        "\n",
        "# Chamando a função avaliador()\n",
        "avaliador(lista_teste, vocabulario)"
      ]
    },
    {
      "cell_type": "markdown",
      "metadata": {
        "colab_type": "text",
        "id": "zsz4yUp0g34W"
      },
      "source": [
        "# 7) Teste e divirta-se!"
      ]
    },
    {
      "cell_type": "code",
      "execution_count": 119,
      "metadata": {
        "colab": {
          "base_uri": "https://localhost:8080/",
          "height": 51
        },
        "colab_type": "code",
        "id": "qFXCAim8pCUr",
        "outputId": "f1f2a232-8d69-4510-9cbd-12d2a8094200"
      },
      "outputs": [
        {
          "name": "stdout",
          "output_type": "stream",
          "text": [
            "Entrada =================> natrual\n",
            "Resposta do corretor() ==> natural\n"
          ]
        }
      ],
      "source": [
        "# Digite aqui a sua palavra incorreta\n",
        "teste = 'natrual'\n",
        "\n",
        "# Mostrando as respostas dos dois corretores\n",
        "print(f'Entrada =================> {teste}\\nResposta do corretor() ==> {corretor(teste)}')"
      ]
    },
    {
      "cell_type": "code",
      "execution_count": null,
      "metadata": {
        "colab": {},
        "colab_type": "code",
        "id": "SbSwihqYswWo"
      },
      "outputs": [],
      "source": []
    }
  ],
  "metadata": {
    "colab": {
      "collapsed_sections": [],
      "include_colab_link": true,
      "name": "Corretor_NLP.ipynb",
      "provenance": []
    },
    "kernelspec": {
      "display_name": "Python 3",
      "name": "python3"
    },
    "language_info": {
      "codemirror_mode": {
        "name": "ipython",
        "version": 3
      },
      "file_extension": ".py",
      "mimetype": "text/x-python",
      "name": "python",
      "nbconvert_exporter": "python",
      "pygments_lexer": "ipython3",
      "version": "3.8.3"
    }
  },
  "nbformat": 4,
  "nbformat_minor": 0
}
